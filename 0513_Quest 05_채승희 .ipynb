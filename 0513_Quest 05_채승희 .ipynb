{
 "cells": [
  {
   "cell_type": "code",
   "execution_count": 65,
   "metadata": {
    "execution": {
     "iopub.execute_input": "2025-05-13T11:09:21.268944Z",
     "iopub.status.busy": "2025-05-13T11:09:21.268057Z",
     "iopub.status.idle": "2025-05-13T11:09:25.738656Z",
     "shell.execute_reply": "2025-05-13T11:09:25.737325Z",
     "shell.execute_reply.started": "2025-05-13T11:09:21.268910Z"
    },
    "trusted": true
   },
   "outputs": [
    {
     "name": "stdout",
     "output_type": "stream",
     "text": [
      "Requirement already satisfied: scikit-learn==1.4.2 in /usr/local/lib/python3.11/dist-packages (1.4.2)\n",
      "Requirement already satisfied: imbalanced-learn==0.12.0 in /usr/local/lib/python3.11/dist-packages (0.12.0)\n",
      "Requirement already satisfied: numpy>=1.19.5 in /usr/local/lib/python3.11/dist-packages (from scikit-learn==1.4.2) (1.26.4)\n",
      "Requirement already satisfied: scipy>=1.6.0 in /usr/local/lib/python3.11/dist-packages (from scikit-learn==1.4.2) (1.15.2)\n",
      "Requirement already satisfied: joblib>=1.2.0 in /usr/local/lib/python3.11/dist-packages (from scikit-learn==1.4.2) (1.4.2)\n",
      "Requirement already satisfied: threadpoolctl>=2.0.0 in /usr/local/lib/python3.11/dist-packages (from scikit-learn==1.4.2) (3.6.0)\n",
      "Requirement already satisfied: mkl_fft in /usr/local/lib/python3.11/dist-packages (from numpy>=1.19.5->scikit-learn==1.4.2) (1.3.8)\n",
      "Requirement already satisfied: mkl_random in /usr/local/lib/python3.11/dist-packages (from numpy>=1.19.5->scikit-learn==1.4.2) (1.2.4)\n",
      "Requirement already satisfied: mkl_umath in /usr/local/lib/python3.11/dist-packages (from numpy>=1.19.5->scikit-learn==1.4.2) (0.1.1)\n",
      "Requirement already satisfied: mkl in /usr/local/lib/python3.11/dist-packages (from numpy>=1.19.5->scikit-learn==1.4.2) (2025.1.0)\n",
      "Requirement already satisfied: tbb4py in /usr/local/lib/python3.11/dist-packages (from numpy>=1.19.5->scikit-learn==1.4.2) (2022.1.0)\n",
      "Requirement already satisfied: mkl-service in /usr/local/lib/python3.11/dist-packages (from numpy>=1.19.5->scikit-learn==1.4.2) (2.4.1)\n",
      "Requirement already satisfied: intel-openmp<2026,>=2024 in /usr/local/lib/python3.11/dist-packages (from mkl->numpy>=1.19.5->scikit-learn==1.4.2) (2024.2.0)\n",
      "Requirement already satisfied: tbb==2022.* in /usr/local/lib/python3.11/dist-packages (from mkl->numpy>=1.19.5->scikit-learn==1.4.2) (2022.1.0)\n",
      "Requirement already satisfied: tcmlib==1.* in /usr/local/lib/python3.11/dist-packages (from tbb==2022.*->mkl->numpy>=1.19.5->scikit-learn==1.4.2) (1.2.0)\n",
      "Requirement already satisfied: intel-cmplr-lib-rt in /usr/local/lib/python3.11/dist-packages (from mkl_umath->numpy>=1.19.5->scikit-learn==1.4.2) (2024.2.0)\n",
      "Requirement already satisfied: intel-cmplr-lib-ur==2024.2.0 in /usr/local/lib/python3.11/dist-packages (from intel-openmp<2026,>=2024->mkl->numpy>=1.19.5->scikit-learn==1.4.2) (2024.2.0)\n"
     ]
    }
   ],
   "source": [
    "!pip install -U scikit-learn==1.4.2 imbalanced-learn==0.12.0"
   ]
  },
  {
   "cell_type": "markdown",
   "metadata": {},
   "source": [
    "# 계획\n",
    "1. 데이터셋&라이브러리 준비\n",
    "2. 데이터 탐색 및 정제\n",
    "3. 학습 데이터와 테스트 데이터 분리\n",
    "4. 모델 선택\n",
    "5. 원본데이터 학습/예측/평가\n",
    "6. 데이터 스케일링 학습/예측/평가\n",
    "7. 피처 엔지니어링 학습/예측/평가\n",
    "8. SMOTE 오버 샘플링 학습/예측/평가\n",
    "9. 앙상블 모델 학습/예측/평가\n",
    "10. 하이퍼 파라미터 튜닝\n",
    "11. 최종 모델 선정"
   ]
  },
  {
   "cell_type": "markdown",
   "metadata": {},
   "source": [
    "# 데이터셋 & 라이브러리 준비"
   ]
  },
  {
   "cell_type": "code",
   "execution_count": 66,
   "metadata": {
    "execution": {
     "iopub.execute_input": "2025-05-13T11:09:25.741126Z",
     "iopub.status.busy": "2025-05-13T11:09:25.740771Z",
     "iopub.status.idle": "2025-05-13T11:09:25.750742Z",
     "shell.execute_reply": "2025-05-13T11:09:25.749144Z",
     "shell.execute_reply.started": "2025-05-13T11:09:25.741095Z"
    },
    "trusted": true
   },
   "outputs": [],
   "source": [
    "from sklearn.model_selection import train_test_split\n",
    "from sklearn.linear_model import LogisticRegression\n",
    "from sklearn.metrics import accuracy_score, precision_score, recall_score, confusion_matrix, f1_score, roc_auc_score\n",
    "from lightgbm import LGBMClassifier\n",
    "from xgboost import XGBClassifier\n",
    "from imblearn.over_sampling import SMOTE\n",
    "import os\n",
    "import pandas as pd\n",
    "import numpy as np\n",
    "import matplotlib.pyplot as plt\n",
    "import seaborn as sns\n",
    "import warnings\n",
    "warnings.filterwarnings(\"ignore\")"
   ]
  },
  {
   "cell_type": "code",
   "execution_count": 67,
   "metadata": {
    "execution": {
     "iopub.execute_input": "2025-05-13T11:09:25.752564Z",
     "iopub.status.busy": "2025-05-13T11:09:25.751830Z",
     "iopub.status.idle": "2025-05-13T11:09:28.398789Z",
     "shell.execute_reply": "2025-05-13T11:09:28.397484Z",
     "shell.execute_reply.started": "2025-05-13T11:09:25.752505Z"
    },
    "trusted": true
   },
   "outputs": [],
   "source": [
    "train = pd.read_csv(\"/kaggle/input/modu-ds-4-credit-card-fraud-detection/train.csv\")\n",
    "test = pd.read_csv(\"/kaggle/input/modu-ds-4-credit-card-fraud-detection/test.csv\")"
   ]
  },
  {
   "cell_type": "markdown",
   "metadata": {},
   "source": [
    "# 데이터 탐색 및 정제"
   ]
  },
  {
   "cell_type": "code",
   "execution_count": 68,
   "metadata": {
    "execution": {
     "iopub.execute_input": "2025-05-13T11:09:28.402686Z",
     "iopub.status.busy": "2025-05-13T11:09:28.402138Z",
     "iopub.status.idle": "2025-05-13T11:09:28.436604Z",
     "shell.execute_reply": "2025-05-13T11:09:28.435145Z",
     "shell.execute_reply.started": "2025-05-13T11:09:28.402656Z"
    },
    "trusted": true
   },
   "outputs": [
    {
     "data": {
      "text/html": [
       "<div>\n",
       "<style scoped>\n",
       "    .dataframe tbody tr th:only-of-type {\n",
       "        vertical-align: middle;\n",
       "    }\n",
       "\n",
       "    .dataframe tbody tr th {\n",
       "        vertical-align: top;\n",
       "    }\n",
       "\n",
       "    .dataframe thead th {\n",
       "        text-align: right;\n",
       "    }\n",
       "</style>\n",
       "<table border=\"1\" class=\"dataframe\">\n",
       "  <thead>\n",
       "    <tr style=\"text-align: right;\">\n",
       "      <th></th>\n",
       "      <th>id</th>\n",
       "      <th>Time</th>\n",
       "      <th>V1</th>\n",
       "      <th>V2</th>\n",
       "      <th>V3</th>\n",
       "      <th>V4</th>\n",
       "      <th>V5</th>\n",
       "      <th>V6</th>\n",
       "      <th>V7</th>\n",
       "      <th>V8</th>\n",
       "      <th>...</th>\n",
       "      <th>V21</th>\n",
       "      <th>V22</th>\n",
       "      <th>V23</th>\n",
       "      <th>V24</th>\n",
       "      <th>V25</th>\n",
       "      <th>V26</th>\n",
       "      <th>V27</th>\n",
       "      <th>V28</th>\n",
       "      <th>Amount</th>\n",
       "      <th>Class</th>\n",
       "    </tr>\n",
       "  </thead>\n",
       "  <tbody>\n",
       "    <tr>\n",
       "      <th>0</th>\n",
       "      <td>0</td>\n",
       "      <td>0.0</td>\n",
       "      <td>-1.359807</td>\n",
       "      <td>-0.072781</td>\n",
       "      <td>2.536347</td>\n",
       "      <td>1.378155</td>\n",
       "      <td>-0.338321</td>\n",
       "      <td>0.462388</td>\n",
       "      <td>0.239599</td>\n",
       "      <td>0.098698</td>\n",
       "      <td>...</td>\n",
       "      <td>-0.018307</td>\n",
       "      <td>0.277838</td>\n",
       "      <td>-0.110474</td>\n",
       "      <td>0.066928</td>\n",
       "      <td>0.128539</td>\n",
       "      <td>-0.189115</td>\n",
       "      <td>0.133558</td>\n",
       "      <td>-0.021053</td>\n",
       "      <td>149.62</td>\n",
       "      <td>0</td>\n",
       "    </tr>\n",
       "    <tr>\n",
       "      <th>1</th>\n",
       "      <td>1</td>\n",
       "      <td>0.0</td>\n",
       "      <td>1.191857</td>\n",
       "      <td>0.266151</td>\n",
       "      <td>0.166480</td>\n",
       "      <td>0.448154</td>\n",
       "      <td>0.060018</td>\n",
       "      <td>-0.082361</td>\n",
       "      <td>-0.078803</td>\n",
       "      <td>0.085102</td>\n",
       "      <td>...</td>\n",
       "      <td>-0.225775</td>\n",
       "      <td>-0.638672</td>\n",
       "      <td>0.101288</td>\n",
       "      <td>-0.339846</td>\n",
       "      <td>0.167170</td>\n",
       "      <td>0.125895</td>\n",
       "      <td>-0.008983</td>\n",
       "      <td>0.014724</td>\n",
       "      <td>2.69</td>\n",
       "      <td>0</td>\n",
       "    </tr>\n",
       "    <tr>\n",
       "      <th>2</th>\n",
       "      <td>2</td>\n",
       "      <td>1.0</td>\n",
       "      <td>-1.358354</td>\n",
       "      <td>-1.340163</td>\n",
       "      <td>1.773209</td>\n",
       "      <td>0.379780</td>\n",
       "      <td>-0.503198</td>\n",
       "      <td>1.800499</td>\n",
       "      <td>0.791461</td>\n",
       "      <td>0.247676</td>\n",
       "      <td>...</td>\n",
       "      <td>0.247998</td>\n",
       "      <td>0.771679</td>\n",
       "      <td>0.909412</td>\n",
       "      <td>-0.689281</td>\n",
       "      <td>-0.327642</td>\n",
       "      <td>-0.139097</td>\n",
       "      <td>-0.055353</td>\n",
       "      <td>-0.059752</td>\n",
       "      <td>378.66</td>\n",
       "      <td>0</td>\n",
       "    </tr>\n",
       "    <tr>\n",
       "      <th>3</th>\n",
       "      <td>3</td>\n",
       "      <td>1.0</td>\n",
       "      <td>-0.966272</td>\n",
       "      <td>-0.185226</td>\n",
       "      <td>1.792993</td>\n",
       "      <td>-0.863291</td>\n",
       "      <td>-0.010309</td>\n",
       "      <td>1.247203</td>\n",
       "      <td>0.237609</td>\n",
       "      <td>0.377436</td>\n",
       "      <td>...</td>\n",
       "      <td>-0.108300</td>\n",
       "      <td>0.005274</td>\n",
       "      <td>-0.190321</td>\n",
       "      <td>-1.175575</td>\n",
       "      <td>0.647376</td>\n",
       "      <td>-0.221929</td>\n",
       "      <td>0.062723</td>\n",
       "      <td>0.061458</td>\n",
       "      <td>123.50</td>\n",
       "      <td>0</td>\n",
       "    </tr>\n",
       "    <tr>\n",
       "      <th>4</th>\n",
       "      <td>4</td>\n",
       "      <td>2.0</td>\n",
       "      <td>-1.158233</td>\n",
       "      <td>0.877737</td>\n",
       "      <td>1.548718</td>\n",
       "      <td>0.403034</td>\n",
       "      <td>-0.407193</td>\n",
       "      <td>0.095921</td>\n",
       "      <td>0.592941</td>\n",
       "      <td>-0.270533</td>\n",
       "      <td>...</td>\n",
       "      <td>-0.009431</td>\n",
       "      <td>0.798278</td>\n",
       "      <td>-0.137458</td>\n",
       "      <td>0.141267</td>\n",
       "      <td>-0.206010</td>\n",
       "      <td>0.502292</td>\n",
       "      <td>0.219422</td>\n",
       "      <td>0.215153</td>\n",
       "      <td>69.99</td>\n",
       "      <td>0</td>\n",
       "    </tr>\n",
       "  </tbody>\n",
       "</table>\n",
       "<p>5 rows × 32 columns</p>\n",
       "</div>"
      ],
      "text/plain": [
       "   id  Time        V1        V2        V3        V4        V5        V6  \\\n",
       "0   0   0.0 -1.359807 -0.072781  2.536347  1.378155 -0.338321  0.462388   \n",
       "1   1   0.0  1.191857  0.266151  0.166480  0.448154  0.060018 -0.082361   \n",
       "2   2   1.0 -1.358354 -1.340163  1.773209  0.379780 -0.503198  1.800499   \n",
       "3   3   1.0 -0.966272 -0.185226  1.792993 -0.863291 -0.010309  1.247203   \n",
       "4   4   2.0 -1.158233  0.877737  1.548718  0.403034 -0.407193  0.095921   \n",
       "\n",
       "         V7        V8  ...       V21       V22       V23       V24       V25  \\\n",
       "0  0.239599  0.098698  ... -0.018307  0.277838 -0.110474  0.066928  0.128539   \n",
       "1 -0.078803  0.085102  ... -0.225775 -0.638672  0.101288 -0.339846  0.167170   \n",
       "2  0.791461  0.247676  ...  0.247998  0.771679  0.909412 -0.689281 -0.327642   \n",
       "3  0.237609  0.377436  ... -0.108300  0.005274 -0.190321 -1.175575  0.647376   \n",
       "4  0.592941 -0.270533  ... -0.009431  0.798278 -0.137458  0.141267 -0.206010   \n",
       "\n",
       "        V26       V27       V28  Amount  Class  \n",
       "0 -0.189115  0.133558 -0.021053  149.62      0  \n",
       "1  0.125895 -0.008983  0.014724    2.69      0  \n",
       "2 -0.139097 -0.055353 -0.059752  378.66      0  \n",
       "3 -0.221929  0.062723  0.061458  123.50      0  \n",
       "4  0.502292  0.219422  0.215153   69.99      0  \n",
       "\n",
       "[5 rows x 32 columns]"
      ]
     },
     "execution_count": 68,
     "metadata": {},
     "output_type": "execute_result"
    }
   ],
   "source": [
    "train.head()"
   ]
  },
  {
   "cell_type": "code",
   "execution_count": 69,
   "metadata": {
    "execution": {
     "iopub.execute_input": "2025-05-13T11:09:28.438081Z",
     "iopub.status.busy": "2025-05-13T11:09:28.437786Z",
     "iopub.status.idle": "2025-05-13T11:09:28.756680Z",
     "shell.execute_reply": "2025-05-13T11:09:28.755524Z",
     "shell.execute_reply.started": "2025-05-13T11:09:28.438056Z"
    },
    "trusted": true
   },
   "outputs": [
    {
     "data": {
      "text/html": [
       "<div>\n",
       "<style scoped>\n",
       "    .dataframe tbody tr th:only-of-type {\n",
       "        vertical-align: middle;\n",
       "    }\n",
       "\n",
       "    .dataframe tbody tr th {\n",
       "        vertical-align: top;\n",
       "    }\n",
       "\n",
       "    .dataframe thead th {\n",
       "        text-align: right;\n",
       "    }\n",
       "</style>\n",
       "<table border=\"1\" class=\"dataframe\">\n",
       "  <thead>\n",
       "    <tr style=\"text-align: right;\">\n",
       "      <th></th>\n",
       "      <th>id</th>\n",
       "      <th>Time</th>\n",
       "      <th>V1</th>\n",
       "      <th>V2</th>\n",
       "      <th>V3</th>\n",
       "      <th>V4</th>\n",
       "      <th>V5</th>\n",
       "      <th>V6</th>\n",
       "      <th>V7</th>\n",
       "      <th>V8</th>\n",
       "      <th>...</th>\n",
       "      <th>V20</th>\n",
       "      <th>V21</th>\n",
       "      <th>V22</th>\n",
       "      <th>V23</th>\n",
       "      <th>V24</th>\n",
       "      <th>V25</th>\n",
       "      <th>V26</th>\n",
       "      <th>V27</th>\n",
       "      <th>V28</th>\n",
       "      <th>Amount</th>\n",
       "    </tr>\n",
       "  </thead>\n",
       "  <tbody>\n",
       "    <tr>\n",
       "      <th>0</th>\n",
       "      <td>170883</td>\n",
       "      <td>120396.0</td>\n",
       "      <td>-2.410892</td>\n",
       "      <td>-1.264333</td>\n",
       "      <td>-0.787460</td>\n",
       "      <td>-0.212152</td>\n",
       "      <td>1.139859</td>\n",
       "      <td>-2.030200</td>\n",
       "      <td>0.533818</td>\n",
       "      <td>-0.194852</td>\n",
       "      <td>...</td>\n",
       "      <td>-0.558831</td>\n",
       "      <td>-0.076699</td>\n",
       "      <td>0.054816</td>\n",
       "      <td>-1.243901</td>\n",
       "      <td>0.147148</td>\n",
       "      <td>0.974330</td>\n",
       "      <td>1.309377</td>\n",
       "      <td>0.083660</td>\n",
       "      <td>-0.611166</td>\n",
       "      <td>124.98</td>\n",
       "    </tr>\n",
       "    <tr>\n",
       "      <th>1</th>\n",
       "      <td>170884</td>\n",
       "      <td>120396.0</td>\n",
       "      <td>-1.394526</td>\n",
       "      <td>0.284790</td>\n",
       "      <td>2.979226</td>\n",
       "      <td>0.362345</td>\n",
       "      <td>-1.344546</td>\n",
       "      <td>2.278858</td>\n",
       "      <td>-1.836101</td>\n",
       "      <td>-1.797895</td>\n",
       "      <td>...</td>\n",
       "      <td>-0.807798</td>\n",
       "      <td>1.945416</td>\n",
       "      <td>-0.539926</td>\n",
       "      <td>-0.446763</td>\n",
       "      <td>-0.521142</td>\n",
       "      <td>0.405680</td>\n",
       "      <td>-0.149237</td>\n",
       "      <td>0.458944</td>\n",
       "      <td>-0.071516</td>\n",
       "      <td>50.00</td>\n",
       "    </tr>\n",
       "    <tr>\n",
       "      <th>2</th>\n",
       "      <td>170885</td>\n",
       "      <td>120396.0</td>\n",
       "      <td>0.140378</td>\n",
       "      <td>0.989574</td>\n",
       "      <td>-0.506447</td>\n",
       "      <td>0.480553</td>\n",
       "      <td>1.407763</td>\n",
       "      <td>0.371637</td>\n",
       "      <td>0.811775</td>\n",
       "      <td>0.067702</td>\n",
       "      <td>...</td>\n",
       "      <td>0.120841</td>\n",
       "      <td>0.385872</td>\n",
       "      <td>1.302941</td>\n",
       "      <td>-0.177157</td>\n",
       "      <td>-0.192410</td>\n",
       "      <td>-0.724567</td>\n",
       "      <td>-0.433276</td>\n",
       "      <td>0.540947</td>\n",
       "      <td>0.323866</td>\n",
       "      <td>8.69</td>\n",
       "    </tr>\n",
       "    <tr>\n",
       "      <th>3</th>\n",
       "      <td>170886</td>\n",
       "      <td>120396.0</td>\n",
       "      <td>-1.303150</td>\n",
       "      <td>0.187865</td>\n",
       "      <td>0.944395</td>\n",
       "      <td>-1.277834</td>\n",
       "      <td>1.236744</td>\n",
       "      <td>-1.301696</td>\n",
       "      <td>1.402234</td>\n",
       "      <td>-0.558914</td>\n",
       "      <td>...</td>\n",
       "      <td>-0.251346</td>\n",
       "      <td>-0.274175</td>\n",
       "      <td>-0.656826</td>\n",
       "      <td>-0.164985</td>\n",
       "      <td>0.001284</td>\n",
       "      <td>-0.001842</td>\n",
       "      <td>-0.024050</td>\n",
       "      <td>-0.436872</td>\n",
       "      <td>0.051705</td>\n",
       "      <td>59.99</td>\n",
       "    </tr>\n",
       "    <tr>\n",
       "      <th>4</th>\n",
       "      <td>170887</td>\n",
       "      <td>120396.0</td>\n",
       "      <td>1.947883</td>\n",
       "      <td>-1.095332</td>\n",
       "      <td>-1.392121</td>\n",
       "      <td>-0.600598</td>\n",
       "      <td>-0.320840</td>\n",
       "      <td>0.048953</td>\n",
       "      <td>-0.443486</td>\n",
       "      <td>-0.081011</td>\n",
       "      <td>...</td>\n",
       "      <td>-0.293448</td>\n",
       "      <td>-0.250594</td>\n",
       "      <td>-0.385151</td>\n",
       "      <td>0.099030</td>\n",
       "      <td>0.221922</td>\n",
       "      <td>-0.212846</td>\n",
       "      <td>0.586637</td>\n",
       "      <td>-0.071616</td>\n",
       "      <td>-0.045475</td>\n",
       "      <td>119.97</td>\n",
       "    </tr>\n",
       "  </tbody>\n",
       "</table>\n",
       "<p>5 rows × 31 columns</p>\n",
       "</div>"
      ],
      "text/plain": [
       "       id      Time        V1        V2        V3        V4        V5  \\\n",
       "0  170883  120396.0 -2.410892 -1.264333 -0.787460 -0.212152  1.139859   \n",
       "1  170884  120396.0 -1.394526  0.284790  2.979226  0.362345 -1.344546   \n",
       "2  170885  120396.0  0.140378  0.989574 -0.506447  0.480553  1.407763   \n",
       "3  170886  120396.0 -1.303150  0.187865  0.944395 -1.277834  1.236744   \n",
       "4  170887  120396.0  1.947883 -1.095332 -1.392121 -0.600598 -0.320840   \n",
       "\n",
       "         V6        V7        V8  ...       V20       V21       V22       V23  \\\n",
       "0 -2.030200  0.533818 -0.194852  ... -0.558831 -0.076699  0.054816 -1.243901   \n",
       "1  2.278858 -1.836101 -1.797895  ... -0.807798  1.945416 -0.539926 -0.446763   \n",
       "2  0.371637  0.811775  0.067702  ...  0.120841  0.385872  1.302941 -0.177157   \n",
       "3 -1.301696  1.402234 -0.558914  ... -0.251346 -0.274175 -0.656826 -0.164985   \n",
       "4  0.048953 -0.443486 -0.081011  ... -0.293448 -0.250594 -0.385151  0.099030   \n",
       "\n",
       "        V24       V25       V26       V27       V28  Amount  \n",
       "0  0.147148  0.974330  1.309377  0.083660 -0.611166  124.98  \n",
       "1 -0.521142  0.405680 -0.149237  0.458944 -0.071516   50.00  \n",
       "2 -0.192410 -0.724567 -0.433276  0.540947  0.323866    8.69  \n",
       "3  0.001284 -0.001842 -0.024050 -0.436872  0.051705   59.99  \n",
       "4  0.221922 -0.212846  0.586637 -0.071616 -0.045475  119.97  \n",
       "\n",
       "[5 rows x 31 columns]"
      ]
     },
     "execution_count": 69,
     "metadata": {},
     "output_type": "execute_result"
    }
   ],
   "source": [
    "test.head()"
   ]
  },
  {
   "cell_type": "code",
   "execution_count": 70,
   "metadata": {
    "execution": {
     "iopub.execute_input": "2025-05-13T11:09:28.758177Z",
     "iopub.status.busy": "2025-05-13T11:09:28.757785Z",
     "iopub.status.idle": "2025-05-13T11:09:28.787595Z",
     "shell.execute_reply": "2025-05-13T11:09:28.786630Z",
     "shell.execute_reply.started": "2025-05-13T11:09:28.758146Z"
    },
    "trusted": true
   },
   "outputs": [
    {
     "data": {
      "text/plain": [
       "(170882, 170883)"
      ]
     },
     "execution_count": 70,
     "metadata": {},
     "output_type": "execute_result"
    }
   ],
   "source": [
    "# 170882 를 기점으로 그 뒤 시점으로 자름\n",
    "\n",
    "train[\"id\"].max(), test[\"id\"].min()"
   ]
  },
  {
   "cell_type": "markdown",
   "metadata": {},
   "source": [
    "## 데이터 확인"
   ]
  },
  {
   "cell_type": "code",
   "execution_count": 71,
   "metadata": {
    "execution": {
     "iopub.execute_input": "2025-05-13T11:09:28.789466Z",
     "iopub.status.busy": "2025-05-13T11:09:28.788999Z",
     "iopub.status.idle": "2025-05-13T11:09:28.827059Z",
     "shell.execute_reply": "2025-05-13T11:09:28.825980Z",
     "shell.execute_reply.started": "2025-05-13T11:09:28.789428Z"
    },
    "trusted": true
   },
   "outputs": [
    {
     "data": {
      "text/html": [
       "<div>\n",
       "<style scoped>\n",
       "    .dataframe tbody tr th:only-of-type {\n",
       "        vertical-align: middle;\n",
       "    }\n",
       "\n",
       "    .dataframe tbody tr th {\n",
       "        vertical-align: top;\n",
       "    }\n",
       "\n",
       "    .dataframe thead th {\n",
       "        text-align: right;\n",
       "    }\n",
       "</style>\n",
       "<table border=\"1\" class=\"dataframe\">\n",
       "  <thead>\n",
       "    <tr style=\"text-align: right;\">\n",
       "      <th></th>\n",
       "      <th>id</th>\n",
       "      <th>Time</th>\n",
       "      <th>V1</th>\n",
       "      <th>V2</th>\n",
       "      <th>V3</th>\n",
       "      <th>V4</th>\n",
       "      <th>V5</th>\n",
       "      <th>V6</th>\n",
       "      <th>V7</th>\n",
       "      <th>V8</th>\n",
       "      <th>...</th>\n",
       "      <th>V21</th>\n",
       "      <th>V22</th>\n",
       "      <th>V23</th>\n",
       "      <th>V24</th>\n",
       "      <th>V25</th>\n",
       "      <th>V26</th>\n",
       "      <th>V27</th>\n",
       "      <th>V28</th>\n",
       "      <th>Amount</th>\n",
       "      <th>Class</th>\n",
       "    </tr>\n",
       "  </thead>\n",
       "  <tbody>\n",
       "    <tr>\n",
       "      <th>0</th>\n",
       "      <td>0</td>\n",
       "      <td>0.0</td>\n",
       "      <td>-1.359807</td>\n",
       "      <td>-0.072781</td>\n",
       "      <td>2.536347</td>\n",
       "      <td>1.378155</td>\n",
       "      <td>-0.338321</td>\n",
       "      <td>0.462388</td>\n",
       "      <td>0.239599</td>\n",
       "      <td>0.098698</td>\n",
       "      <td>...</td>\n",
       "      <td>-0.018307</td>\n",
       "      <td>0.277838</td>\n",
       "      <td>-0.110474</td>\n",
       "      <td>0.066928</td>\n",
       "      <td>0.128539</td>\n",
       "      <td>-0.189115</td>\n",
       "      <td>0.133558</td>\n",
       "      <td>-0.021053</td>\n",
       "      <td>149.62</td>\n",
       "      <td>0</td>\n",
       "    </tr>\n",
       "    <tr>\n",
       "      <th>1</th>\n",
       "      <td>1</td>\n",
       "      <td>0.0</td>\n",
       "      <td>1.191857</td>\n",
       "      <td>0.266151</td>\n",
       "      <td>0.166480</td>\n",
       "      <td>0.448154</td>\n",
       "      <td>0.060018</td>\n",
       "      <td>-0.082361</td>\n",
       "      <td>-0.078803</td>\n",
       "      <td>0.085102</td>\n",
       "      <td>...</td>\n",
       "      <td>-0.225775</td>\n",
       "      <td>-0.638672</td>\n",
       "      <td>0.101288</td>\n",
       "      <td>-0.339846</td>\n",
       "      <td>0.167170</td>\n",
       "      <td>0.125895</td>\n",
       "      <td>-0.008983</td>\n",
       "      <td>0.014724</td>\n",
       "      <td>2.69</td>\n",
       "      <td>0</td>\n",
       "    </tr>\n",
       "    <tr>\n",
       "      <th>2</th>\n",
       "      <td>2</td>\n",
       "      <td>1.0</td>\n",
       "      <td>-1.358354</td>\n",
       "      <td>-1.340163</td>\n",
       "      <td>1.773209</td>\n",
       "      <td>0.379780</td>\n",
       "      <td>-0.503198</td>\n",
       "      <td>1.800499</td>\n",
       "      <td>0.791461</td>\n",
       "      <td>0.247676</td>\n",
       "      <td>...</td>\n",
       "      <td>0.247998</td>\n",
       "      <td>0.771679</td>\n",
       "      <td>0.909412</td>\n",
       "      <td>-0.689281</td>\n",
       "      <td>-0.327642</td>\n",
       "      <td>-0.139097</td>\n",
       "      <td>-0.055353</td>\n",
       "      <td>-0.059752</td>\n",
       "      <td>378.66</td>\n",
       "      <td>0</td>\n",
       "    </tr>\n",
       "    <tr>\n",
       "      <th>3</th>\n",
       "      <td>3</td>\n",
       "      <td>1.0</td>\n",
       "      <td>-0.966272</td>\n",
       "      <td>-0.185226</td>\n",
       "      <td>1.792993</td>\n",
       "      <td>-0.863291</td>\n",
       "      <td>-0.010309</td>\n",
       "      <td>1.247203</td>\n",
       "      <td>0.237609</td>\n",
       "      <td>0.377436</td>\n",
       "      <td>...</td>\n",
       "      <td>-0.108300</td>\n",
       "      <td>0.005274</td>\n",
       "      <td>-0.190321</td>\n",
       "      <td>-1.175575</td>\n",
       "      <td>0.647376</td>\n",
       "      <td>-0.221929</td>\n",
       "      <td>0.062723</td>\n",
       "      <td>0.061458</td>\n",
       "      <td>123.50</td>\n",
       "      <td>0</td>\n",
       "    </tr>\n",
       "    <tr>\n",
       "      <th>4</th>\n",
       "      <td>4</td>\n",
       "      <td>2.0</td>\n",
       "      <td>-1.158233</td>\n",
       "      <td>0.877737</td>\n",
       "      <td>1.548718</td>\n",
       "      <td>0.403034</td>\n",
       "      <td>-0.407193</td>\n",
       "      <td>0.095921</td>\n",
       "      <td>0.592941</td>\n",
       "      <td>-0.270533</td>\n",
       "      <td>...</td>\n",
       "      <td>-0.009431</td>\n",
       "      <td>0.798278</td>\n",
       "      <td>-0.137458</td>\n",
       "      <td>0.141267</td>\n",
       "      <td>-0.206010</td>\n",
       "      <td>0.502292</td>\n",
       "      <td>0.219422</td>\n",
       "      <td>0.215153</td>\n",
       "      <td>69.99</td>\n",
       "      <td>0</td>\n",
       "    </tr>\n",
       "  </tbody>\n",
       "</table>\n",
       "<p>5 rows × 32 columns</p>\n",
       "</div>"
      ],
      "text/plain": [
       "   id  Time        V1        V2        V3        V4        V5        V6  \\\n",
       "0   0   0.0 -1.359807 -0.072781  2.536347  1.378155 -0.338321  0.462388   \n",
       "1   1   0.0  1.191857  0.266151  0.166480  0.448154  0.060018 -0.082361   \n",
       "2   2   1.0 -1.358354 -1.340163  1.773209  0.379780 -0.503198  1.800499   \n",
       "3   3   1.0 -0.966272 -0.185226  1.792993 -0.863291 -0.010309  1.247203   \n",
       "4   4   2.0 -1.158233  0.877737  1.548718  0.403034 -0.407193  0.095921   \n",
       "\n",
       "         V7        V8  ...       V21       V22       V23       V24       V25  \\\n",
       "0  0.239599  0.098698  ... -0.018307  0.277838 -0.110474  0.066928  0.128539   \n",
       "1 -0.078803  0.085102  ... -0.225775 -0.638672  0.101288 -0.339846  0.167170   \n",
       "2  0.791461  0.247676  ...  0.247998  0.771679  0.909412 -0.689281 -0.327642   \n",
       "3  0.237609  0.377436  ... -0.108300  0.005274 -0.190321 -1.175575  0.647376   \n",
       "4  0.592941 -0.270533  ... -0.009431  0.798278 -0.137458  0.141267 -0.206010   \n",
       "\n",
       "        V26       V27       V28  Amount  Class  \n",
       "0 -0.189115  0.133558 -0.021053  149.62      0  \n",
       "1  0.125895 -0.008983  0.014724    2.69      0  \n",
       "2 -0.139097 -0.055353 -0.059752  378.66      0  \n",
       "3 -0.221929  0.062723  0.061458  123.50      0  \n",
       "4  0.502292  0.219422  0.215153   69.99      0  \n",
       "\n",
       "[5 rows x 32 columns]"
      ]
     },
     "execution_count": 71,
     "metadata": {},
     "output_type": "execute_result"
    }
   ],
   "source": [
    "train.head()"
   ]
  },
  {
   "cell_type": "code",
   "execution_count": 72,
   "metadata": {
    "execution": {
     "iopub.execute_input": "2025-05-13T11:09:28.828385Z",
     "iopub.status.busy": "2025-05-13T11:09:28.828000Z",
     "iopub.status.idle": "2025-05-13T11:09:28.889195Z",
     "shell.execute_reply": "2025-05-13T11:09:28.888129Z",
     "shell.execute_reply.started": "2025-05-13T11:09:28.828358Z"
    },
    "trusted": true
   },
   "outputs": [
    {
     "name": "stdout",
     "output_type": "stream",
     "text": [
      "<class 'pandas.core.frame.DataFrame'>\n",
      "RangeIndex: 170883 entries, 0 to 170882\n",
      "Data columns (total 32 columns):\n",
      " #   Column  Non-Null Count   Dtype  \n",
      "---  ------  --------------   -----  \n",
      " 0   id      170883 non-null  int64  \n",
      " 1   Time    170883 non-null  float64\n",
      " 2   V1      170883 non-null  float64\n",
      " 3   V2      170883 non-null  float64\n",
      " 4   V3      170883 non-null  float64\n",
      " 5   V4      170883 non-null  float64\n",
      " 6   V5      170883 non-null  float64\n",
      " 7   V6      170883 non-null  float64\n",
      " 8   V7      170883 non-null  float64\n",
      " 9   V8      170883 non-null  float64\n",
      " 10  V9      170883 non-null  float64\n",
      " 11  V10     170883 non-null  float64\n",
      " 12  V11     170883 non-null  float64\n",
      " 13  V12     170883 non-null  float64\n",
      " 14  V13     170883 non-null  float64\n",
      " 15  V14     170883 non-null  float64\n",
      " 16  V15     170883 non-null  float64\n",
      " 17  V16     170883 non-null  float64\n",
      " 18  V17     170883 non-null  float64\n",
      " 19  V18     170883 non-null  float64\n",
      " 20  V19     170883 non-null  float64\n",
      " 21  V20     170883 non-null  float64\n",
      " 22  V21     170883 non-null  float64\n",
      " 23  V22     170883 non-null  float64\n",
      " 24  V23     170883 non-null  float64\n",
      " 25  V24     170883 non-null  float64\n",
      " 26  V25     170883 non-null  float64\n",
      " 27  V26     170883 non-null  float64\n",
      " 28  V27     170883 non-null  float64\n",
      " 29  V28     170883 non-null  float64\n",
      " 30  Amount  170883 non-null  float64\n",
      " 31  Class   170883 non-null  int64  \n",
      "dtypes: float64(30), int64(2)\n",
      "memory usage: 41.7 MB\n"
     ]
    }
   ],
   "source": [
    "train.info()"
   ]
  },
  {
   "cell_type": "code",
   "execution_count": 73,
   "metadata": {
    "execution": {
     "iopub.execute_input": "2025-05-13T11:09:28.890575Z",
     "iopub.status.busy": "2025-05-13T11:09:28.890214Z",
     "iopub.status.idle": "2025-05-13T11:09:28.919327Z",
     "shell.execute_reply": "2025-05-13T11:09:28.918303Z",
     "shell.execute_reply.started": "2025-05-13T11:09:28.890541Z"
    },
    "trusted": true
   },
   "outputs": [
    {
     "name": "stdout",
     "output_type": "stream",
     "text": [
      "<class 'pandas.core.frame.DataFrame'>\n",
      "RangeIndex: 113923 entries, 0 to 113922\n",
      "Data columns (total 31 columns):\n",
      " #   Column  Non-Null Count   Dtype  \n",
      "---  ------  --------------   -----  \n",
      " 0   id      113923 non-null  int64  \n",
      " 1   Time    113923 non-null  float64\n",
      " 2   V1      113923 non-null  float64\n",
      " 3   V2      113923 non-null  float64\n",
      " 4   V3      113923 non-null  float64\n",
      " 5   V4      113923 non-null  float64\n",
      " 6   V5      113923 non-null  float64\n",
      " 7   V6      113923 non-null  float64\n",
      " 8   V7      113923 non-null  float64\n",
      " 9   V8      113923 non-null  float64\n",
      " 10  V9      113923 non-null  float64\n",
      " 11  V10     113923 non-null  float64\n",
      " 12  V11     113923 non-null  float64\n",
      " 13  V12     113923 non-null  float64\n",
      " 14  V13     113923 non-null  float64\n",
      " 15  V14     113923 non-null  float64\n",
      " 16  V15     113923 non-null  float64\n",
      " 17  V16     113923 non-null  float64\n",
      " 18  V17     113923 non-null  float64\n",
      " 19  V18     113923 non-null  float64\n",
      " 20  V19     113923 non-null  float64\n",
      " 21  V20     113923 non-null  float64\n",
      " 22  V21     113923 non-null  float64\n",
      " 23  V22     113923 non-null  float64\n",
      " 24  V23     113923 non-null  float64\n",
      " 25  V24     113923 non-null  float64\n",
      " 26  V25     113923 non-null  float64\n",
      " 27  V26     113923 non-null  float64\n",
      " 28  V27     113923 non-null  float64\n",
      " 29  V28     113923 non-null  float64\n",
      " 30  Amount  113923 non-null  float64\n",
      "dtypes: float64(30), int64(1)\n",
      "memory usage: 26.9 MB\n"
     ]
    }
   ],
   "source": [
    "test.info()"
   ]
  },
  {
   "cell_type": "code",
   "execution_count": 74,
   "metadata": {
    "execution": {
     "iopub.execute_input": "2025-05-13T11:09:28.925112Z",
     "iopub.status.busy": "2025-05-13T11:09:28.924099Z",
     "iopub.status.idle": "2025-05-13T11:09:28.930470Z",
     "shell.execute_reply": "2025-05-13T11:09:28.929324Z",
     "shell.execute_reply.started": "2025-05-13T11:09:28.925080Z"
    },
    "trusted": true
   },
   "outputs": [
    {
     "name": "stdout",
     "output_type": "stream",
     "text": [
      "(170883, 32)\n",
      "(113923, 31)\n"
     ]
    }
   ],
   "source": [
    "print(train.shape)\n",
    "print(test.shape)  # 레이블 Class를 제외해서 컬럼 개수가 31"
   ]
  },
  {
   "cell_type": "code",
   "execution_count": 75,
   "metadata": {
    "execution": {
     "iopub.execute_input": "2025-05-13T11:09:28.932090Z",
     "iopub.status.busy": "2025-05-13T11:09:28.931830Z",
     "iopub.status.idle": "2025-05-13T11:09:29.296206Z",
     "shell.execute_reply": "2025-05-13T11:09:29.294470Z",
     "shell.execute_reply.started": "2025-05-13T11:09:28.932070Z"
    },
    "trusted": true
   },
   "outputs": [
    {
     "data": {
      "text/html": [
       "<div>\n",
       "<style scoped>\n",
       "    .dataframe tbody tr th:only-of-type {\n",
       "        vertical-align: middle;\n",
       "    }\n",
       "\n",
       "    .dataframe tbody tr th {\n",
       "        vertical-align: top;\n",
       "    }\n",
       "\n",
       "    .dataframe thead th {\n",
       "        text-align: right;\n",
       "    }\n",
       "</style>\n",
       "<table border=\"1\" class=\"dataframe\">\n",
       "  <thead>\n",
       "    <tr style=\"text-align: right;\">\n",
       "      <th></th>\n",
       "      <th>id</th>\n",
       "      <th>Time</th>\n",
       "      <th>V1</th>\n",
       "      <th>V2</th>\n",
       "      <th>V3</th>\n",
       "      <th>V4</th>\n",
       "      <th>V5</th>\n",
       "      <th>V6</th>\n",
       "      <th>V7</th>\n",
       "      <th>V8</th>\n",
       "      <th>...</th>\n",
       "      <th>V21</th>\n",
       "      <th>V22</th>\n",
       "      <th>V23</th>\n",
       "      <th>V24</th>\n",
       "      <th>V25</th>\n",
       "      <th>V26</th>\n",
       "      <th>V27</th>\n",
       "      <th>V28</th>\n",
       "      <th>Amount</th>\n",
       "      <th>Class</th>\n",
       "    </tr>\n",
       "  </thead>\n",
       "  <tbody>\n",
       "    <tr>\n",
       "      <th>count</th>\n",
       "      <td>170883.000000</td>\n",
       "      <td>170883.000000</td>\n",
       "      <td>170883.000000</td>\n",
       "      <td>170883.000000</td>\n",
       "      <td>170883.000000</td>\n",
       "      <td>170883.000000</td>\n",
       "      <td>170883.000000</td>\n",
       "      <td>170883.000000</td>\n",
       "      <td>170883.000000</td>\n",
       "      <td>170883.000000</td>\n",
       "      <td>...</td>\n",
       "      <td>170883.000000</td>\n",
       "      <td>170883.000000</td>\n",
       "      <td>170883.000000</td>\n",
       "      <td>170883.000000</td>\n",
       "      <td>170883.000000</td>\n",
       "      <td>170883.000000</td>\n",
       "      <td>170883.000000</td>\n",
       "      <td>170883.000000</td>\n",
       "      <td>170883.000000</td>\n",
       "      <td>170883.000000</td>\n",
       "    </tr>\n",
       "    <tr>\n",
       "      <th>mean</th>\n",
       "      <td>85441.000000</td>\n",
       "      <td>61091.567090</td>\n",
       "      <td>-0.169838</td>\n",
       "      <td>0.040771</td>\n",
       "      <td>0.493037</td>\n",
       "      <td>0.117429</td>\n",
       "      <td>-0.176102</td>\n",
       "      <td>0.058235</td>\n",
       "      <td>-0.080669</td>\n",
       "      <td>0.032227</td>\n",
       "      <td>...</td>\n",
       "      <td>-0.028287</td>\n",
       "      <td>-0.083744</td>\n",
       "      <td>-0.022450</td>\n",
       "      <td>0.009008</td>\n",
       "      <td>0.092269</td>\n",
       "      <td>0.012603</td>\n",
       "      <td>0.002093</td>\n",
       "      <td>0.002445</td>\n",
       "      <td>87.336704</td>\n",
       "      <td>0.002107</td>\n",
       "    </tr>\n",
       "    <tr>\n",
       "      <th>std</th>\n",
       "      <td>49329.817362</td>\n",
       "      <td>27828.109419</td>\n",
       "      <td>1.850529</td>\n",
       "      <td>1.610874</td>\n",
       "      <td>1.383241</td>\n",
       "      <td>1.371910</td>\n",
       "      <td>1.338609</td>\n",
       "      <td>1.295123</td>\n",
       "      <td>1.208518</td>\n",
       "      <td>1.227630</td>\n",
       "      <td>...</td>\n",
       "      <td>0.743713</td>\n",
       "      <td>0.667318</td>\n",
       "      <td>0.584508</td>\n",
       "      <td>0.598760</td>\n",
       "      <td>0.465505</td>\n",
       "      <td>0.490660</td>\n",
       "      <td>0.391951</td>\n",
       "      <td>0.307315</td>\n",
       "      <td>245.954429</td>\n",
       "      <td>0.045851</td>\n",
       "    </tr>\n",
       "    <tr>\n",
       "      <th>min</th>\n",
       "      <td>0.000000</td>\n",
       "      <td>0.000000</td>\n",
       "      <td>-56.407510</td>\n",
       "      <td>-72.715728</td>\n",
       "      <td>-33.680984</td>\n",
       "      <td>-5.519697</td>\n",
       "      <td>-42.147898</td>\n",
       "      <td>-26.160506</td>\n",
       "      <td>-43.557242</td>\n",
       "      <td>-73.216718</td>\n",
       "      <td>...</td>\n",
       "      <td>-34.830382</td>\n",
       "      <td>-10.933144</td>\n",
       "      <td>-44.807735</td>\n",
       "      <td>-2.836627</td>\n",
       "      <td>-10.295397</td>\n",
       "      <td>-2.604551</td>\n",
       "      <td>-22.565679</td>\n",
       "      <td>-11.710896</td>\n",
       "      <td>0.000000</td>\n",
       "      <td>0.000000</td>\n",
       "    </tr>\n",
       "    <tr>\n",
       "      <th>25%</th>\n",
       "      <td>42720.500000</td>\n",
       "      <td>41216.500000</td>\n",
       "      <td>-0.986667</td>\n",
       "      <td>-0.539174</td>\n",
       "      <td>-0.064747</td>\n",
       "      <td>-0.743475</td>\n",
       "      <td>-0.828769</td>\n",
       "      <td>-0.691129</td>\n",
       "      <td>-0.586314</td>\n",
       "      <td>-0.162638</td>\n",
       "      <td>...</td>\n",
       "      <td>-0.230722</td>\n",
       "      <td>-0.546777</td>\n",
       "      <td>-0.170294</td>\n",
       "      <td>-0.332459</td>\n",
       "      <td>-0.195933</td>\n",
       "      <td>-0.330346</td>\n",
       "      <td>-0.065125</td>\n",
       "      <td>-0.027054</td>\n",
       "      <td>5.480000</td>\n",
       "      <td>0.000000</td>\n",
       "    </tr>\n",
       "    <tr>\n",
       "      <th>50%</th>\n",
       "      <td>85441.000000</td>\n",
       "      <td>60776.000000</td>\n",
       "      <td>-0.183560</td>\n",
       "      <td>0.109679</td>\n",
       "      <td>0.623352</td>\n",
       "      <td>0.124307</td>\n",
       "      <td>-0.226228</td>\n",
       "      <td>-0.202634</td>\n",
       "      <td>-0.031932</td>\n",
       "      <td>0.056664</td>\n",
       "      <td>...</td>\n",
       "      <td>-0.054462</td>\n",
       "      <td>-0.066786</td>\n",
       "      <td>-0.036211</td>\n",
       "      <td>0.059474</td>\n",
       "      <td>0.135662</td>\n",
       "      <td>-0.058966</td>\n",
       "      <td>0.008693</td>\n",
       "      <td>0.021152</td>\n",
       "      <td>21.890000</td>\n",
       "      <td>0.000000</td>\n",
       "    </tr>\n",
       "    <tr>\n",
       "      <th>75%</th>\n",
       "      <td>128161.500000</td>\n",
       "      <td>78622.000000</td>\n",
       "      <td>1.184446</td>\n",
       "      <td>0.804221</td>\n",
       "      <td>1.297352</td>\n",
       "      <td>0.937632</td>\n",
       "      <td>0.374445</td>\n",
       "      <td>0.449200</td>\n",
       "      <td>0.462616</td>\n",
       "      <td>0.350995</td>\n",
       "      <td>...</td>\n",
       "      <td>0.128337</td>\n",
       "      <td>0.363165</td>\n",
       "      <td>0.098707</td>\n",
       "      <td>0.415860</td>\n",
       "      <td>0.399458</td>\n",
       "      <td>0.272938</td>\n",
       "      <td>0.089727</td>\n",
       "      <td>0.078302</td>\n",
       "      <td>76.720000</td>\n",
       "      <td>0.000000</td>\n",
       "    </tr>\n",
       "    <tr>\n",
       "      <th>max</th>\n",
       "      <td>170882.000000</td>\n",
       "      <td>120396.000000</td>\n",
       "      <td>2.439207</td>\n",
       "      <td>22.057729</td>\n",
       "      <td>9.382558</td>\n",
       "      <td>16.875344</td>\n",
       "      <td>34.801666</td>\n",
       "      <td>22.529298</td>\n",
       "      <td>36.677268</td>\n",
       "      <td>20.007208</td>\n",
       "      <td>...</td>\n",
       "      <td>27.202839</td>\n",
       "      <td>10.503090</td>\n",
       "      <td>19.002942</td>\n",
       "      <td>4.022866</td>\n",
       "      <td>7.519589</td>\n",
       "      <td>3.517346</td>\n",
       "      <td>12.152401</td>\n",
       "      <td>33.847808</td>\n",
       "      <td>19656.530000</td>\n",
       "      <td>1.000000</td>\n",
       "    </tr>\n",
       "  </tbody>\n",
       "</table>\n",
       "<p>8 rows × 32 columns</p>\n",
       "</div>"
      ],
      "text/plain": [
       "                  id           Time             V1             V2  \\\n",
       "count  170883.000000  170883.000000  170883.000000  170883.000000   \n",
       "mean    85441.000000   61091.567090      -0.169838       0.040771   \n",
       "std     49329.817362   27828.109419       1.850529       1.610874   \n",
       "min         0.000000       0.000000     -56.407510     -72.715728   \n",
       "25%     42720.500000   41216.500000      -0.986667      -0.539174   \n",
       "50%     85441.000000   60776.000000      -0.183560       0.109679   \n",
       "75%    128161.500000   78622.000000       1.184446       0.804221   \n",
       "max    170882.000000  120396.000000       2.439207      22.057729   \n",
       "\n",
       "                  V3             V4             V5             V6  \\\n",
       "count  170883.000000  170883.000000  170883.000000  170883.000000   \n",
       "mean        0.493037       0.117429      -0.176102       0.058235   \n",
       "std         1.383241       1.371910       1.338609       1.295123   \n",
       "min       -33.680984      -5.519697     -42.147898     -26.160506   \n",
       "25%        -0.064747      -0.743475      -0.828769      -0.691129   \n",
       "50%         0.623352       0.124307      -0.226228      -0.202634   \n",
       "75%         1.297352       0.937632       0.374445       0.449200   \n",
       "max         9.382558      16.875344      34.801666      22.529298   \n",
       "\n",
       "                  V7             V8  ...            V21            V22  \\\n",
       "count  170883.000000  170883.000000  ...  170883.000000  170883.000000   \n",
       "mean       -0.080669       0.032227  ...      -0.028287      -0.083744   \n",
       "std         1.208518       1.227630  ...       0.743713       0.667318   \n",
       "min       -43.557242     -73.216718  ...     -34.830382     -10.933144   \n",
       "25%        -0.586314      -0.162638  ...      -0.230722      -0.546777   \n",
       "50%        -0.031932       0.056664  ...      -0.054462      -0.066786   \n",
       "75%         0.462616       0.350995  ...       0.128337       0.363165   \n",
       "max        36.677268      20.007208  ...      27.202839      10.503090   \n",
       "\n",
       "                 V23            V24            V25            V26  \\\n",
       "count  170883.000000  170883.000000  170883.000000  170883.000000   \n",
       "mean       -0.022450       0.009008       0.092269       0.012603   \n",
       "std         0.584508       0.598760       0.465505       0.490660   \n",
       "min       -44.807735      -2.836627     -10.295397      -2.604551   \n",
       "25%        -0.170294      -0.332459      -0.195933      -0.330346   \n",
       "50%        -0.036211       0.059474       0.135662      -0.058966   \n",
       "75%         0.098707       0.415860       0.399458       0.272938   \n",
       "max        19.002942       4.022866       7.519589       3.517346   \n",
       "\n",
       "                 V27            V28         Amount          Class  \n",
       "count  170883.000000  170883.000000  170883.000000  170883.000000  \n",
       "mean        0.002093       0.002445      87.336704       0.002107  \n",
       "std         0.391951       0.307315     245.954429       0.045851  \n",
       "min       -22.565679     -11.710896       0.000000       0.000000  \n",
       "25%        -0.065125      -0.027054       5.480000       0.000000  \n",
       "50%         0.008693       0.021152      21.890000       0.000000  \n",
       "75%         0.089727       0.078302      76.720000       0.000000  \n",
       "max        12.152401      33.847808   19656.530000       1.000000  \n",
       "\n",
       "[8 rows x 32 columns]"
      ]
     },
     "execution_count": 75,
     "metadata": {},
     "output_type": "execute_result"
    }
   ],
   "source": [
    "train.describe()"
   ]
  },
  {
   "cell_type": "markdown",
   "metadata": {},
   "source": [
    "**train**\n",
    "- 컬럼별 정보\n",
    "    - id : 고유 숫자\n",
    "    - Time: 각 거래와 데이터셋의 첫 거래 사이의 경과 시간(초) -> 큰 의미가 없으므로 제거 처리\n",
    "    - V1~V28: PCA로 얻은 주성분\n",
    "    - Amount: 신용카드 트랜잭션 금액\n",
    "    - Class: 레이블. 0_정상 / 1_사기 거래\n",
    "- 결측치 없음\n",
    "- id와 Classs는 int형, 그외 피처들 모두 float형 -> 범주형 데이터 존재 X. 인코딩 X\n",
    "- 이상치 데이터는 제거 전/후 비교를 위해 이후 단계에서 처리 예정"
   ]
  },
  {
   "cell_type": "markdown",
   "metadata": {},
   "source": [
    "## 불균형 데이터 확인"
   ]
  },
  {
   "cell_type": "code",
   "execution_count": 76,
   "metadata": {
    "execution": {
     "iopub.execute_input": "2025-05-13T11:09:29.297779Z",
     "iopub.status.busy": "2025-05-13T11:09:29.297414Z",
     "iopub.status.idle": "2025-05-13T11:09:29.309927Z",
     "shell.execute_reply": "2025-05-13T11:09:29.308845Z",
     "shell.execute_reply.started": "2025-05-13T11:09:29.297751Z"
    },
    "trusted": true
   },
   "outputs": [
    {
     "data": {
      "text/plain": [
       "Class\n",
       "0    99.78933\n",
       "1     0.21067\n",
       "Name: proportion, dtype: float64"
      ]
     },
     "execution_count": 76,
     "metadata": {},
     "output_type": "execute_result"
    }
   ],
   "source": [
    "## Class의 0과 1비율 확인\n",
    "train[\"Class\"].value_counts(normalize=True)*100"
   ]
  },
  {
   "cell_type": "code",
   "execution_count": 77,
   "metadata": {
    "execution": {
     "iopub.execute_input": "2025-05-13T11:09:29.311331Z",
     "iopub.status.busy": "2025-05-13T11:09:29.311003Z",
     "iopub.status.idle": "2025-05-13T11:09:29.512605Z",
     "shell.execute_reply": "2025-05-13T11:09:29.511508Z",
     "shell.execute_reply.started": "2025-05-13T11:09:29.311309Z"
    },
    "trusted": true
   },
   "outputs": [
    {
     "data": {
      "image/png": "[encoded data removed]",
      "text/plain": [
       "<Figure size 640x480 with 1 Axes>"
      ]
     },
     "metadata": {},
     "output_type": "display_data"
    }
   ],
   "source": [
    "# 시각화로 확인해보기\n",
    "sns.countplot(x='Class', data=train)\n",
    "plt.title('Transaction Class Distribution')\n",
    "plt.show()"
   ]
  },
  {
   "cell_type": "code",
   "execution_count": 78,
   "metadata": {
    "execution": {
     "iopub.execute_input": "2025-05-13T11:09:29.513842Z",
     "iopub.status.busy": "2025-05-13T11:09:29.513537Z",
     "iopub.status.idle": "2025-05-13T11:09:30.722499Z",
     "shell.execute_reply": "2025-05-13T11:09:30.721402Z",
     "shell.execute_reply.started": "2025-05-13T11:09:29.513819Z"
    },
    "trusted": true
   },
   "outputs": [
    {
     "data": {
      "image/png": "[encoded data removed]",
      "text/plain": [
       "<Figure size 800x400 with 1 Axes>"
      ]
     },
     "metadata": {},
     "output_type": "display_data"
    }
   ],
   "source": [
    "## Amount 확인\n",
    "plt.figure(figsize=(8, 4))\n",
    "plt.xticks(range(0, 30000, 1000), rotation=60)\n",
    "sns.histplot(train['Amount'], bins=100, kde=True)\n",
    "plt.show()"
   ]
  },
  {
   "cell_type": "markdown",
   "metadata": {},
   "source": [
    "**Class**\n",
    "- 이상 레이블(1) 데이터 건수가 매우 적기 때문에 원본 데이터 모델 성능과 오버 샘플링한 모델 성능 비교 필요\n",
    "- SMOTE 방법을 사용하여 이상 레이블(1)의 데이터 증가시키기\n",
    "\n",
    "**Amount**\n",
    "- 1000불 이하인 데이터가 대부분이면서,약 20000불까지 드물게 많은 금액을 사용한 경우 존재\n",
    "- 로그 변환을 통해 데이터 분포도의 왜곡을 개선해서 학습에 적용 필요"
   ]
  },
  {
   "cell_type": "markdown",
   "metadata": {},
   "source": [
    "## 데이터 전처리"
   ]
  },
  {
   "cell_type": "code",
   "execution_count": 79,
   "metadata": {
    "execution": {
     "iopub.execute_input": "2025-05-13T11:09:30.724711Z",
     "iopub.status.busy": "2025-05-13T11:09:30.724086Z",
     "iopub.status.idle": "2025-05-13T11:09:30.731173Z",
     "shell.execute_reply": "2025-05-13T11:09:30.729823Z",
     "shell.execute_reply.started": "2025-05-13T11:09:30.724676Z"
    },
    "trusted": true
   },
   "outputs": [],
   "source": [
    "## 사전 데이터 처리 정의\n",
    "# 우선 기본적으로 사용될 Time 컬럼 제거 먼저 정의\n",
    "def get_preprocessed_df(df=None):\n",
    "    df_copy = df.copy()\n",
    "    df_copy.drop('Time', axis=1, inplace=True)\n",
    "    return df_copy"
   ]
  },
  {
   "cell_type": "markdown",
   "metadata": {},
   "source": [
    "# 학습 데이터와 테스트 데이터 분리"
   ]
  },
  {
   "cell_type": "code",
   "execution_count": 80,
   "metadata": {
    "execution": {
     "iopub.execute_input": "2025-05-13T11:09:30.733020Z",
     "iopub.status.busy": "2025-05-13T11:09:30.732643Z",
     "iopub.status.idle": "2025-05-13T11:09:30.759534Z",
     "shell.execute_reply": "2025-05-13T11:09:30.758292Z",
     "shell.execute_reply.started": "2025-05-13T11:09:30.732976Z"
    },
    "trusted": true
   },
   "outputs": [],
   "source": [
    "# 사전 데이터 가공 후 학습과 테스트 데이터 세트를 반환하는 함수\n",
    "\n",
    "def get_train_test_dataset(df=None):\n",
    "    df_copy = get_preprocessed_df(df)\n",
    "    \n",
    "    X_features = df_copy.iloc[:, :-1]\n",
    "    y_target = df_copy.iloc[:, -1]\n",
    "    \n",
    "    X_train, X_test, y_train, y_test = train_test_split(X_features, y_target,\n",
    "                                                        test_size=0.3, random_state=0, stratify=y_target)\n",
    "    \n",
    "    return X_train, X_test, y_train, y_test"
   ]
  },
  {
   "cell_type": "code",
   "execution_count": 81,
   "metadata": {
    "execution": {
     "iopub.execute_input": "2025-05-13T11:09:30.761181Z",
     "iopub.status.busy": "2025-05-13T11:09:30.760762Z",
     "iopub.status.idle": "2025-05-13T11:09:30.928728Z",
     "shell.execute_reply": "2025-05-13T11:09:30.927473Z",
     "shell.execute_reply.started": "2025-05-13T11:09:30.761146Z"
    },
    "trusted": true
   },
   "outputs": [],
   "source": [
    "X_train, X_test, y_train, y_test = get_train_test_dataset(train)"
   ]
  },
  {
   "cell_type": "code",
   "execution_count": 82,
   "metadata": {
    "execution": {
     "iopub.execute_input": "2025-05-13T11:09:30.930033Z",
     "iopub.status.busy": "2025-05-13T11:09:30.929680Z",
     "iopub.status.idle": "2025-05-13T11:09:30.941223Z",
     "shell.execute_reply": "2025-05-13T11:09:30.940082Z",
     "shell.execute_reply.started": "2025-05-13T11:09:30.930006Z"
    },
    "trusted": true
   },
   "outputs": [
    {
     "name": "stdout",
     "output_type": "stream",
     "text": [
      "학습 데이터 레이블 값 비율\n",
      "Class\n",
      "0    99.789329\n",
      "1     0.210671\n",
      "Name: count, dtype: float64\n",
      "테스트 데이터 레이블 값 비율\n",
      "Class\n",
      "0    99.78933\n",
      "1     0.21067\n",
      "Name: count, dtype: float64\n"
     ]
    }
   ],
   "source": [
    "# 학습 데이터셋과 테스트 데이터셋의 레이블 값 비율 확인\n",
    "print('학습 데이터 레이블 값 비율')\n",
    "print(y_train.value_counts()/y_train.shape[0] * 100)\n",
    "print('테스트 데이터 레이블 값 비율')\n",
    "print(y_test.value_counts()/y_test.shape[0] * 100)"
   ]
  },
  {
   "cell_type": "markdown",
   "metadata": {},
   "source": [
    "# 모델 선택"
   ]
  },
  {
   "cell_type": "markdown",
   "metadata": {},
   "source": [
    "**모델 선택**\n",
    "1. 로지스틱 회귀\n",
    "   - 속도가 빠르며 이진 분류가 목적인 해당 데이터에 적합하다고 판단\n",
    "2. LightGBM\n",
    "   - XGBoost에 비해 속도가 빠르며 성능도 좋음\n",
    "   - 불균형 데이터를 조절할 수 있는 파라미터가 있어 불균형 분포가 특징인 해당 데이터에 적합하다고 판단\n",
    "3. XGBoost\n",
    "   - 기본적으로 예측 성능이 좋은 모델\n",
    "   - 마찬가지로 불균형 데이터를 조절할 수 있는 파라미터가 있으며 과적합 방지가 내장되어 있어서 활용 시도\n"
   ]
  },
  {
   "cell_type": "code",
   "execution_count": 83,
   "metadata": {
    "execution": {
     "iopub.execute_input": "2025-05-13T11:09:30.942787Z",
     "iopub.status.busy": "2025-05-13T11:09:30.942490Z",
     "iopub.status.idle": "2025-05-13T11:09:30.967818Z",
     "shell.execute_reply": "2025-05-13T11:09:30.966480Z",
     "shell.execute_reply.started": "2025-05-13T11:09:30.942761Z"
    },
    "trusted": true
   },
   "outputs": [],
   "source": [
    "# 평가 함수 정의\n",
    "\n",
    "def get_clf_eval(y_test, pred, pred_proba=None):\n",
    "    confusion = confusion_matrix(y_test, pred)\n",
    "    accuracy = accuracy_score(y_test, pred)\n",
    "    precision = precision_score(y_test, pred)\n",
    "    recall = recall_score(y_test, pred)\n",
    "    f1 = f1_score(y_test, pred)\n",
    "    \n",
    "    roc_auc = roc_auc_score(y_test, pred_proba)\n",
    "    \n",
    "    \n",
    "    print(\"오차 행렬\")\n",
    "    print(confusion)\n",
    "    print(f\"정확도: {accuracy:.4f}, 정밀도: {precision: .4f}, 재현율: {recall: .4f}, f1스코어: {f1:.4f}, roc-auc: {roc_auc:.4f}\")"
   ]
  },
  {
   "cell_type": "code",
   "execution_count": 84,
   "metadata": {
    "execution": {
     "iopub.execute_input": "2025-05-13T11:09:30.969531Z",
     "iopub.status.busy": "2025-05-13T11:09:30.969044Z",
     "iopub.status.idle": "2025-05-13T11:09:30.996478Z",
     "shell.execute_reply": "2025-05-13T11:09:30.995223Z",
     "shell.execute_reply.started": "2025-05-13T11:09:30.969499Z"
    },
    "trusted": true
   },
   "outputs": [],
   "source": [
    "# 모델 학습 함수 정의\n",
    "def get_model_train_eval(model, ftr_train=None, ftr_test=None, tgt_train=None, tgt_test=None):\n",
    "    model.fit(ftr_train, tgt_train)\n",
    "    pred = model.predict(ftr_test)\n",
    "    pred_proba = model.predict_proba(ftr_test)[:, 1]\n",
    "    get_clf_eval(tgt_test, pred, pred_proba)"
   ]
  },
  {
   "cell_type": "markdown",
   "metadata": {},
   "source": [
    "# 원본 데이터 학습/예측/평가"
   ]
  },
  {
   "cell_type": "code",
   "execution_count": 85,
   "metadata": {
    "execution": {
     "iopub.execute_input": "2025-05-13T11:09:30.998104Z",
     "iopub.status.busy": "2025-05-13T11:09:30.997786Z",
     "iopub.status.idle": "2025-05-13T11:09:31.193540Z",
     "shell.execute_reply": "2025-05-13T11:09:31.192443Z",
     "shell.execute_reply.started": "2025-05-13T11:09:30.998078Z"
    },
    "trusted": true
   },
   "outputs": [],
   "source": [
    "X_train, X_test, y_train, y_test = get_train_test_dataset(train)"
   ]
  },
  {
   "cell_type": "code",
   "execution_count": 86,
   "metadata": {
    "execution": {
     "iopub.execute_input": "2025-05-13T11:09:31.195522Z",
     "iopub.status.busy": "2025-05-13T11:09:31.194865Z",
     "iopub.status.idle": "2025-05-13T11:10:04.336471Z",
     "shell.execute_reply": "2025-05-13T11:10:04.335296Z",
     "shell.execute_reply.started": "2025-05-13T11:09:31.195486Z"
    },
    "trusted": true
   },
   "outputs": [
    {
     "name": "stdout",
     "output_type": "stream",
     "text": [
      "### 로지스틱 회귀 예측 성능 ###\n",
      "오차 행렬\n",
      "[[51140    17]\n",
      " [   40    68]]\n",
      "정확도: 0.9989, 정밀도:  0.8000, 재현율:  0.6296, f1스코어: 0.7047, roc-auc: 0.9576\n",
      "### LightGBM 예측 성능 ###\n",
      "오차 행렬\n",
      "[[51152     5]\n",
      " [   18    90]]\n",
      "정확도: 0.9996, 정밀도:  0.9474, 재현율:  0.8333, f1스코어: 0.8867, roc-auc: 0.9739\n",
      "### XGBoost 예측 성능 ###\n",
      "오차 행렬\n",
      "[[51144    13]\n",
      " [   17    91]]\n",
      "정확도: 0.9994, 정밀도:  0.8750, 재현율:  0.8426, f1스코어: 0.8585, roc-auc: 0.9718\n"
     ]
    }
   ],
   "source": [
    "print('### 로지스틱 회귀 예측 성능 ###')\n",
    "lr_clf = LogisticRegression(max_iter=1000)\n",
    "get_model_train_eval(lr_clf, ftr_train=X_train, ftr_test=X_test, tgt_train=y_train, tgt_test=y_test)\n",
    "\n",
    "print('### LightGBM 예측 성능 ###')\n",
    "lgbm_clf = LGBMClassifier(n_estimators=1000, num_leaves=64, n_jobs=-1, boost_from_average=False, verbose=-1)\n",
    "get_model_train_eval(lgbm_clf, ftr_train=X_train, ftr_test=X_test, tgt_train=y_train, tgt_test=y_test)\n",
    "\n",
    "print('### XGBoost 예측 성능 ###')\n",
    "xgb_clf = XGBClassifier(n_estimators=100, learning_rate=0.1, eval_metric='auc',\n",
    "                       scale_pos_weight=476, use_label_encoder=False)\n",
    "get_model_train_eval(xgb_clf, ftr_train=X_train, ftr_test=X_test, tgt_train=y_train, tgt_test=y_test)"
   ]
  },
  {
   "cell_type": "markdown",
   "metadata": {},
   "source": [
    "# 데이터 스케일링 학습/예측/평가\n",
    "- Amount 피처의 값을 로그로 변환하여 모델 학습"
   ]
  },
  {
   "cell_type": "code",
   "execution_count": 87,
   "metadata": {
    "execution": {
     "iopub.execute_input": "2025-05-13T11:10:04.337903Z",
     "iopub.status.busy": "2025-05-13T11:10:04.337520Z",
     "iopub.status.idle": "2025-05-13T11:10:04.344518Z",
     "shell.execute_reply": "2025-05-13T11:10:04.343199Z",
     "shell.execute_reply.started": "2025-05-13T11:10:04.337866Z"
    },
    "trusted": true
   },
   "outputs": [],
   "source": [
    "# 데이터 전처리 함수에 로그 변환 추가\n",
    "def get_preprocessed_df(df=None, train=True):\n",
    "    df_copy = df.copy()\n",
    "    amount_n = np.log1p(df_copy[\"Amount\"])\n",
    "    df_copy.insert(0, \"Amount_Scaled\", amount_n)\n",
    "    df_copy.drop([\"Time\", \"Amount\"], axis=1, inplace=True)\n",
    "    return df_copy"
   ]
  },
  {
   "cell_type": "code",
   "execution_count": 88,
   "metadata": {
    "execution": {
     "iopub.execute_input": "2025-05-13T11:10:04.346854Z",
     "iopub.status.busy": "2025-05-13T11:10:04.346471Z",
     "iopub.status.idle": "2025-05-13T11:10:36.856284Z",
     "shell.execute_reply": "2025-05-13T11:10:36.855254Z",
     "shell.execute_reply.started": "2025-05-13T11:10:04.346819Z"
    },
    "trusted": true
   },
   "outputs": [
    {
     "name": "stdout",
     "output_type": "stream",
     "text": [
      "### 로지스틱 회귀 예측 성능 ###\n",
      "오차 행렬\n",
      "[[51145    12]\n",
      " [   44    64]]\n",
      "정확도: 0.9989, 정밀도:  0.8421, 재현율:  0.5926, f1스코어: 0.6957, roc-auc: 0.9642\n",
      "### LightGBM 예측 성능 ###\n",
      "오차 행렬\n",
      "[[51151     6]\n",
      " [   18    90]]\n",
      "정확도: 0.9995, 정밀도:  0.9375, 재현율:  0.8333, f1스코어: 0.8824, roc-auc: 0.9722\n",
      "### XGBoost 예측 성능 ###\n",
      "오차 행렬\n",
      "[[51143    14]\n",
      " [   17    91]]\n",
      "정확도: 0.9994, 정밀도:  0.8667, 재현율:  0.8426, f1스코어: 0.8545, roc-auc: 0.9729\n"
     ]
    }
   ],
   "source": [
    "# 모델 학습/예측/평가\n",
    "X_train, X_test, y_train, y_test = get_train_test_dataset(train)\n",
    "\n",
    "print('### 로지스틱 회귀 예측 성능 ###')\n",
    "get_model_train_eval(lr_clf, ftr_train=X_train, ftr_test=X_test, tgt_train=y_train, tgt_test=y_test)\n",
    "\n",
    "print('### LightGBM 예측 성능 ###')\n",
    "get_model_train_eval(lgbm_clf, ftr_train=X_train, ftr_test=X_test, tgt_train=y_train, tgt_test=y_test)\n",
    "\n",
    "print('### XGBoost 예측 성능 ###')\n",
    "get_model_train_eval(xgb_clf, ftr_train=X_train, ftr_test=X_test, tgt_train=y_train, tgt_test=y_test)"
   ]
  },
  {
   "cell_type": "markdown",
   "metadata": {},
   "source": [
    "# 피처 엔지니어링 학습/예측/평가\n",
    "- 이상치 데이터 제거 후 모델 학습"
   ]
  },
  {
   "cell_type": "code",
   "execution_count": 89,
   "metadata": {
    "execution": {
     "iopub.execute_input": "2025-05-13T11:10:36.857636Z",
     "iopub.status.busy": "2025-05-13T11:10:36.857330Z",
     "iopub.status.idle": "2025-05-13T11:10:37.957369Z",
     "shell.execute_reply": "2025-05-13T11:10:37.955912Z",
     "shell.execute_reply.started": "2025-05-13T11:10:36.857612Z"
    },
    "trusted": true
   },
   "outputs": [
    {
     "data": {
      "text/plain": [
       "<Axes: >"
      ]
     },
     "execution_count": 89,
     "metadata": {},
     "output_type": "execute_result"
    },
    {
     "data": {
      "image/png": "[encoded data removed]",
      "text/plain": [
       "<Figure size 900x900 with 2 Axes>"
      ]
     },
     "metadata": {},
     "output_type": "display_data"
    }
   ],
   "source": [
    "## 피처별 상관도 확인\n",
    "# 매우 많은 피처에 이상치(IQR 기준)가 있을 경우, 레이블과 가장 상관성이 높은 피처들을 위주로 이상치를 검출\n",
    "import seaborn as sns\n",
    "\n",
    "plt.figure(figsize=(9, 9))\n",
    "corr = train.corr()\n",
    "sns.heatmap(corr, cmap='RdBu')"
   ]
  },
  {
   "cell_type": "markdown",
   "metadata": {},
   "source": [
    "- Class와 음의 상관관계 최고치: V14, V17\n",
    "- IQR을 이용하여 이상치 검출하고 삭제"
   ]
  },
  {
   "cell_type": "code",
   "execution_count": 90,
   "metadata": {
    "execution": {
     "iopub.execute_input": "2025-05-13T11:10:37.958716Z",
     "iopub.status.busy": "2025-05-13T11:10:37.958427Z",
     "iopub.status.idle": "2025-05-13T11:10:37.965451Z",
     "shell.execute_reply": "2025-05-13T11:10:37.964208Z",
     "shell.execute_reply.started": "2025-05-13T11:10:37.958694Z"
    },
    "trusted": true
   },
   "outputs": [],
   "source": [
    "# IQR을 이용하여 이상치 검출하는 함수 생성\n",
    "def get_outlier(df=None, column=None, weight=1.5):\n",
    "    fraud = df[df[\"Class\"]==1][column]\n",
    "    quantile_25 = np.percentile(fraud.values, 25)\n",
    "    quantile_75 = np.percentile(fraud.values, 75)\n",
    "    \n",
    "    iqr = quantile_75 - quantile_25\n",
    "    iqr_weight = iqr * weight\n",
    "    lowest_val = quantile_25 - iqr_weight\n",
    "    highest_val = quantile_75 + iqr_weight\n",
    "    \n",
    "    outlier_index = fraud[(fraud < lowest_val) | (fraud > highest_val)].index\n",
    "    return outlier_index"
   ]
  },
  {
   "cell_type": "code",
   "execution_count": 91,
   "metadata": {
    "execution": {
     "iopub.execute_input": "2025-05-13T11:10:37.966826Z",
     "iopub.status.busy": "2025-05-13T11:10:37.966525Z",
     "iopub.status.idle": "2025-05-13T11:10:37.992322Z",
     "shell.execute_reply": "2025-05-13T11:10:37.991258Z",
     "shell.execute_reply.started": "2025-05-13T11:10:37.966802Z"
    },
    "trusted": true
   },
   "outputs": [
    {
     "name": "stdout",
     "output_type": "stream",
     "text": [
      "V14 이상치 데이터 인덱스: Index([8296, 8615, 9035], dtype='int64')\n",
      "V17 이상치 데이터 인덱스: Index([], dtype='int64')\n"
     ]
    }
   ],
   "source": [
    "# V14, V17 이상치 확인\n",
    "outlier_index = get_outlier(df=train, column='V14', weight=1.5)\n",
    "print('V14 이상치 데이터 인덱스:', outlier_index)\n",
    "\n",
    "outlier_index = get_outlier(df=train, column='V17', weight=1.5)\n",
    "print('V17 이상치 데이터 인덱스:', outlier_index)"
   ]
  },
  {
   "cell_type": "markdown",
   "metadata": {},
   "source": [
    "V17은 이상치 데이터가 없으므로 V14에 대한 이상치 제거 진행"
   ]
  },
  {
   "cell_type": "code",
   "execution_count": 92,
   "metadata": {
    "execution": {
     "iopub.execute_input": "2025-05-13T11:10:37.998271Z",
     "iopub.status.busy": "2025-05-13T11:10:37.997915Z",
     "iopub.status.idle": "2025-05-13T11:10:38.013289Z",
     "shell.execute_reply": "2025-05-13T11:10:38.011709Z",
     "shell.execute_reply.started": "2025-05-13T11:10:37.998246Z"
    },
    "trusted": true
   },
   "outputs": [],
   "source": [
    "# 데이터 전처리를 V14 이상치 데이터를 삭제하는 로직으로 변경\n",
    "def get_preprocessed_df(df=None, train=True):\n",
    "   df_copy = df.copy()\n",
    "   amount_n = np.log1p(df_copy[\"Amount\"])\n",
    "   df_copy.insert(0, \"Amount_Scaled\", amount_n)\n",
    "   df_copy.drop([\"Time\", \"Amount\"], axis=1, inplace=True)\n",
    "    \n",
    "   outlier_index = get_outlier(df=df_copy, column=\"V14\", weight=1.5)\n",
    "   df_copy.drop(outlier_index, axis=0, inplace=True)\n",
    "    \n",
    "   return df_copy"
   ]
  },
  {
   "cell_type": "code",
   "execution_count": 93,
   "metadata": {
    "execution": {
     "iopub.execute_input": "2025-05-13T11:10:38.015122Z",
     "iopub.status.busy": "2025-05-13T11:10:38.014633Z",
     "iopub.status.idle": "2025-05-13T11:11:10.832465Z",
     "shell.execute_reply": "2025-05-13T11:11:10.831439Z",
     "shell.execute_reply.started": "2025-05-13T11:10:38.015017Z"
    },
    "trusted": true
   },
   "outputs": [
    {
     "name": "stdout",
     "output_type": "stream",
     "text": [
      "### 로지스틱 회귀 예측 성능 ###\n",
      "오차 행렬\n",
      "[[51146    11]\n",
      " [   42    65]]\n",
      "정확도: 0.9990, 정밀도:  0.8553, 재현율:  0.6075, f1스코어: 0.7104, roc-auc: 0.9376\n",
      "### LightGBM 예측 성능 ###\n",
      "오차 행렬\n",
      "[[51153     4]\n",
      " [   18    89]]\n",
      "정확도: 0.9996, 정밀도:  0.9570, 재현율:  0.8318, f1스코어: 0.8900, roc-auc: 0.9769\n",
      "### XGBoost 예측 성능 ###\n",
      "오차 행렬\n",
      "[[51146    11]\n",
      " [   15    92]]\n",
      "정확도: 0.9995, 정밀도:  0.8932, 재현율:  0.8598, f1스코어: 0.8762, roc-auc: 0.9778\n"
     ]
    }
   ],
   "source": [
    "# 모델 학습/예측/평가\n",
    "X_train, X_test, y_train, y_test = get_train_test_dataset(train)\n",
    "\n",
    "print('### 로지스틱 회귀 예측 성능 ###')\n",
    "get_model_train_eval(lr_clf, ftr_train=X_train, ftr_test=X_test, tgt_train=y_train, tgt_test=y_test)\n",
    "\n",
    "print('### LightGBM 예측 성능 ###')\n",
    "get_model_train_eval(lgbm_clf, ftr_train=X_train, ftr_test=X_test, tgt_train=y_train, tgt_test=y_test)\n",
    "\n",
    "print('### XGBoost 예측 성능 ###')\n",
    "get_model_train_eval(xgb_clf, ftr_train=X_train, ftr_test=X_test, tgt_train=y_train, tgt_test=y_test)"
   ]
  },
  {
   "cell_type": "markdown",
   "metadata": {},
   "source": [
    "# SMOTE 오버 샘플링 학습/예측/평가\n",
    "- SMOTE를 적용할 때는 반드시 학습 데이터셋에만 오버 샘플링을 해야 함"
   ]
  },
  {
   "cell_type": "code",
   "execution_count": 94,
   "metadata": {
    "execution": {
     "iopub.execute_input": "2025-05-13T11:11:10.834265Z",
     "iopub.status.busy": "2025-05-13T11:11:10.833436Z",
     "iopub.status.idle": "2025-05-13T11:11:11.035263Z",
     "shell.execute_reply": "2025-05-13T11:11:11.034214Z",
     "shell.execute_reply.started": "2025-05-13T11:11:10.834216Z"
    },
    "trusted": true
   },
   "outputs": [],
   "source": [
    "# SMOTE 객체의 fit_resample() 메서드 이용하여 증식\n",
    "smote = SMOTE(random_state=0)\n",
    "\n",
    "X_train_over, y_train_over = smote.fit_resample(X_train, y_train)"
   ]
  },
  {
   "cell_type": "code",
   "execution_count": 95,
   "metadata": {
    "execution": {
     "iopub.execute_input": "2025-05-13T11:11:11.036595Z",
     "iopub.status.busy": "2025-05-13T11:11:11.036248Z",
     "iopub.status.idle": "2025-05-13T11:11:11.047204Z",
     "shell.execute_reply": "2025-05-13T11:11:11.046127Z",
     "shell.execute_reply.started": "2025-05-13T11:11:11.036553Z"
    },
    "trusted": true
   },
   "outputs": [
    {
     "name": "stdout",
     "output_type": "stream",
     "text": [
      "SMOTE 적용 전 학습용 피처/레이블 데이터 세트:  (119616, 30) (119616,)\n",
      "\n",
      "SMOTE 적용 후 학습용 피처/레이블 데이터 세트:  (238732, 30) (238732,)\n",
      "\n",
      "SMOTE 적용 후 레이블 값 분포: \n",
      " Class\n",
      "0    0.5\n",
      "1    0.5\n",
      "Name: proportion, dtype: float64\n"
     ]
    }
   ],
   "source": [
    "# 데이터 증식 전/후 비교\n",
    "print(\"SMOTE 적용 전 학습용 피처/레이블 데이터 세트: \", X_train.shape, y_train.shape)\n",
    "print(\"\\nSMOTE 적용 후 학습용 피처/레이블 데이터 세트: \", X_train_over.shape, y_train_over.shape)\n",
    "print(\"\\nSMOTE 적용 후 레이블 값 분포: \\n\", pd.Series(y_train_over).value_counts(normalize=True))"
   ]
  },
  {
   "cell_type": "markdown",
   "metadata": {},
   "source": [
    "- 데이터 증식하여 Class의 0과 1의 값 비율이 동일하게 완료된 점 확인"
   ]
  },
  {
   "cell_type": "code",
   "execution_count": null,
   "metadata": {
    "execution": {
     "iopub.execute_input": "2025-05-13T11:11:11.048686Z",
     "iopub.status.busy": "2025-05-13T11:11:11.048338Z",
     "iopub.status.idle": "2025-05-13T11:12:19.931396Z",
     "shell.execute_reply": "2025-05-13T11:12:19.930194Z",
     "shell.execute_reply.started": "2025-05-13T11:11:11.048656Z"
    },
    "trusted": true
   },
   "outputs": [
    {
     "name": "stdout",
     "output_type": "stream",
     "text": [
      "### 로지스틱 회귀 예측 성능 ###\n",
      "오차 행렬\n",
      "[[50567   590]\n",
      " [   14    93]]\n",
      "정확도: 0.9882, 정밀도:  0.1362, 재현율:  0.8692, f1스코어: 0.2354, roc-auc: 0.9725\n",
      "### LightGBM 예측 성능 ###\n",
      "오차 행렬\n",
      "[[51146    11]\n",
      " [   17    90]]\n",
      "정확도: 0.9995, 정밀도:  0.8911, 재현율:  0.8411, f1스코어: 0.8654, roc-auc: 0.9793\n",
      "### XGBoost 예측 성능 ###\n",
      "오차 행렬\n",
      "[[51115    42]\n",
      " [   15    92]]\n",
      "정확도: 0.9989, 정밀도:  0.6866, 재현율:  0.8598, f1스코어: 0.7635, roc-auc: 0.9858\n"
     ]
    }
   ],
   "source": [
    "# 모델 학습/예측/평가\n",
    "# X_train_over와 y_train_over로 변수 변경 적용 \n",
    "X_train, X_test, y_train, y_test = get_train_test_dataset(train)\n",
    "\n",
    "print('### 로지스틱 회귀 예측 성능 ###')\n",
    "get_model_train_eval(lr_clf, ftr_train=X_train_over, ftr_test=X_test, tgt_train=y_train_over, tgt_test=y_test)\n",
    "\n",
    "print('### LightGBM 예측 성능 ###')\n",
    "get_model_train_eval(lgbm_clf, ftr_train=X_train_over, ftr_test=X_test, tgt_train=y_train_over, tgt_test=y_test)\n",
    "\n",
    "print('### XGBoost 예측 성능 ###')\n",
    "xgb_clf = XGBClassifier(n_estimators=100, learning_rate=0.1, eval_metric='auc',\n",
    "                       use_label_encoder=False) # scale_pos_weight=476 불균형 대응 옵션 제거\n",
    "get_model_train_eval(xgb_clf, ftr_train=X_train_over, ftr_test=X_test, tgt_train=y_train_over, tgt_test=y_test)"
   ]
  },
  {
   "cell_type": "markdown",
   "metadata": {},
   "source": [
    "- 재현율과 ROC-AUC는 모두 상승\n",
    "- 그러나 정밀도와 F1 score는 하락\n",
    "- SMOTE는 방식은 정밀도는 낮아도 되고, 재현율을 높이고 싶은 경우 사용하기에 가장 적합할 것으로 판단"
   ]
  },
  {
   "cell_type": "markdown",
   "metadata": {},
   "source": [
    "# 앙상블 모델 학습/예측/평가"
   ]
  },
  {
   "cell_type": "code",
   "execution_count": 97,
   "metadata": {
    "execution": {
     "iopub.execute_input": "2025-05-13T11:12:19.932987Z",
     "iopub.status.busy": "2025-05-13T11:12:19.932620Z",
     "iopub.status.idle": "2025-05-13T11:12:53.388717Z",
     "shell.execute_reply": "2025-05-13T11:12:53.387623Z",
     "shell.execute_reply.started": "2025-05-13T11:12:19.932954Z"
    },
    "trusted": true
   },
   "outputs": [
    {
     "name": "stdout",
     "output_type": "stream",
     "text": [
      "오차 행렬\n",
      "[[51152     5]\n",
      " [   17    90]]\n",
      "정확도: 0.9996, 정밀도:  0.9474, 재현율:  0.8411, f1스코어: 0.8911, roc-auc: 0.9697\n"
     ]
    }
   ],
   "source": [
    "from sklearn.ensemble import VotingClassifier\n",
    "X_train, X_test, y_train, y_test = get_train_test_dataset(train)\n",
    "\n",
    "# 개별 모델 정의\n",
    "lr_clf = LogisticRegression(max_iter=1000)\n",
    "lgbm_clf = LGBMClassifier(n_estimators=1000, num_leaves=64, n_jobs=-1, boost_from_average=False, verbose=-1)\n",
    "xgb_clf = XGBClassifier(n_estimators=100, learning_rate=0.1, eval_metric='auc',\n",
    "                       scale_pos_weight=476, use_label_encoder=False)\n",
    "\n",
    "# 보팅 앙상블\n",
    "voting_clf = VotingClassifier(\n",
    "    estimators=[('lr', lr_clf),\n",
    "               ('lgbm', lgbm_clf),\n",
    "               ('xgb', xgb_clf)],\n",
    "    voting='soft'\n",
    ")\n",
    "\n",
    "# 학습\n",
    "voting_clf.fit(X_train, y_train)\n",
    "\n",
    "# 예측\n",
    "pred = voting_clf.predict(X_test)\n",
    "pred_proba = voting_clf.predict_proba(X_test)[:, 1]  # ROC-AUC\n",
    "\n",
    "# 평가 함수 적용\n",
    "get_clf_eval(y_test, pred, pred_proba)"
   ]
  },
  {
   "cell_type": "markdown",
   "metadata": {},
   "source": [
    "3개의 앙상블 모델이 더 성능을 향상시켰다고는 보기 어려움"
   ]
  },
  {
   "cell_type": "markdown",
   "metadata": {},
   "source": [
    "# 하이퍼파라미터 튜닝\n",
    "- 원본데이터에서 데이터 로그 변환 + 이상치 제거한 후의 LightGBM과 XGBoost의 성능이 좋은 것으로 보여짐\n",
    "- 두 모델에 대한 하이퍼파라미터 튜닝을 진행한 후, 최종 모델 선택"
   ]
  },
  {
   "cell_type": "markdown",
   "metadata": {},
   "source": [
    "## 최적의 하이퍼파라미터 검색"
   ]
  },
  {
   "cell_type": "code",
   "execution_count": 98,
   "metadata": {
    "execution": {
     "iopub.execute_input": "2025-05-13T11:12:53.390187Z",
     "iopub.status.busy": "2025-05-13T11:12:53.389830Z",
     "iopub.status.idle": "2025-05-13T11:12:53.396347Z",
     "shell.execute_reply": "2025-05-13T11:12:53.395216Z",
     "shell.execute_reply.started": "2025-05-13T11:12:53.390163Z"
    },
    "trusted": true
   },
   "outputs": [],
   "source": [
    "## LightGBM - 오래 걸려서 주석 처리\n",
    "# from sklearn.model_selection import KFold\n",
    "# from hyperopt import hp\n",
    "\n",
    "# # 검색 공간 설정\n",
    "# lgbm_search_space = {'num_leaves': hp.quniform('num_leaves', 32, 64, 1),\n",
    "#                      'max_depth': hp.quniform('max_depth', 100, 160, 1),\n",
    "#                      'min_child_samples': hp.quniform('min_child_samples', 60, 100, 1),\n",
    "#                      'subsample': hp.uniform('subsample', 0.7, 1),\n",
    "#                      'learning_rate': hp.uniform('learning_rate', 0.01, 0.2)\n",
    "#                      }\n",
    "\n",
    "# # 목적 함수 생성\n",
    "# def objective_func(search_space):\n",
    "#     lgbm_clf = LGBMClassifier(n_estimators=1000,\n",
    "#                               num_leaves=int(search_space['num_leaves']),\n",
    "#                               max_depth=int(search_space['max_depth']),\n",
    "#                               min_child_samples=int(search_space['min_child_samples']),\n",
    "#                               subsample=search_space['subsample'],\n",
    "#                               learning_rate=search_space['learning_rate'],\n",
    "#                               early_stopping_rounds=30, # early stopping은 30회로 설정\n",
    "#                               eval_metric='auc',\n",
    "#                               verbose=-1\n",
    "#                               )\n",
    "#     # 교차검증\n",
    "#     roc_auc_list = []\n",
    "\n",
    "#     kf = KFold(n_splits=3)\n",
    "#     for tr_index, val_index in kf.split(X_train):\n",
    "#         X_tr, y_tr = X_train.iloc[tr_index], y_train.iloc[tr_index]\n",
    "#         X_val, y_val = X_train.iloc[val_index], y_train.iloc[val_index]\n",
    "\n",
    "#         lgbm_clf.fit(X_tr, y_tr, eval_set=[(X_tr, y_tr), (X_val, y_val)])\n",
    "\n",
    "#         score = roc_auc_score(y_val, lgbm_clf.predict_proba(X_val)[:, 1])\n",
    "#         roc_auc_list.append(score)\n",
    "    \n",
    "#     # 3개 k-fold로 계산된 roc_auc값의 평균값을 반환하되, \n",
    "#     # HyperOpt는 목적함수의 최소값을 위한 입력값을 찾으므로 -1을 곱한 뒤 반환\n",
    "#     return -1*np.mean(roc_auc_list)\n",
    "\n",
    "# from hyperopt import fmin, tpe, Trials\n",
    "\n",
    "# trials = Trials()\n",
    "\n",
    "# # fmin()함수를 호출. max_evals지정된 횟수만큼 반복 후 목적함수의 최소값을 가지는 최적 입력값 추출\n",
    "# best_lgbm = fmin(fn=objective_func, space=lgbm_search_space, algo=tpe.suggest,\n",
    "#             max_evals=50, # 최대 반복 횟수 지정\n",
    "#             trials=trials, rstate=np.random.default_rng(seed=30))\n",
    "\n",
    "# print('best_lgbm:', best_lgbm)"
   ]
  },
  {
   "cell_type": "markdown",
   "metadata": {},
   "source": [
    "- learning_rate = 0.01080960144581896\n",
    "- max_depth = 159\n",
    "- min_child_samples = 99\n",
    "- num_leaves = 36\n",
    "- subsample = 0.7077513158736064"
   ]
  },
  {
   "cell_type": "code",
   "execution_count": null,
   "metadata": {
    "execution": {
     "iopub.execute_input": "2025-05-13T11:12:53.397567Z",
     "iopub.status.busy": "2025-05-13T11:12:53.397321Z",
     "iopub.status.idle": "2025-05-13T11:12:53.421055Z",
     "shell.execute_reply": "2025-05-13T11:12:53.419952Z",
     "shell.execute_reply.started": "2025-05-13T11:12:53.397548Z"
    },
    "trusted": true
   },
   "outputs": [],
   "source": [
    "# # XGBoost\n",
    "\n",
    "# # 검색 공간 설정\n",
    "# xgb_search_space = {'max_depth': hp.quniform('max_depth', 5, 15, 1), \n",
    "#                     'min_child_weight': hp.quniform('min_child_weight', 1, 6, 1),\n",
    "#                     'colsample_bytree': hp.uniform('colsample_bytree', 0.5, 0.95),\n",
    "#                     'learning_rate': hp.uniform('learning_rate', 0.01, 0.2)\n",
    "# }\n",
    "\n",
    "# # 목표 함수 생성\n",
    "# def objective_func(search_space):\n",
    "#     xgb_clf = XGBClassifier(n_estimators=100,\n",
    "#                             max_depth=int(search_space['max_depth']),\n",
    "#                             min_child_weight=int(search_space['min_child_weight']),\n",
    "#                             colsample_bytree=search_space['colsample_bytree'],\n",
    "#                             learning_rate=search_space['learning_rate'],\n",
    "#                             early_stopping_rounds=30,\n",
    "#                             eval_metric='auc'\n",
    "#                            )\n",
    "#     # 교차검증 3회\n",
    "#     roc_auc_list= []\n",
    "    \n",
    "#     kf = KFold(n_splits=3)\n",
    "#     for tr_index, val_index in kf.split(X_train): \n",
    "#         X_tr, y_tr = X_train.iloc[tr_index], y_train.iloc[tr_index]\n",
    "#         X_val, y_val = X_train.iloc[val_index], y_train.iloc[val_index]\n",
    "#         xgb_clf.fit(X_tr, y_tr, eval_set=[(X_tr, y_tr), (X_val, y_val)], verbose=False)\n",
    "    \n",
    "#         score = roc_auc_score(y_val, xgb_clf.predict_proba(X_val)[:, 1])\n",
    "#         roc_auc_list.append(score)\n",
    "        \n",
    "#     # 3개 k-fold로 계산된 roc_auc값의 평균값을 반환하되, \n",
    "#     # HyperOpt는 목적함수의 최소값을 위한 입력값을 찾으므로 -1을 곱한 뒤 반환. \n",
    "#     return -1 * np.mean(roc_auc_list)\n",
    "\n",
    "# from hyperopt import fmin, tpe, Trials\n",
    "\n",
    "# trial_val = Trials()\n",
    "# best_xgb = fmin(fn=objective_func,\n",
    "#             space=xgb_search_space,\n",
    "#             algo=tpe.suggest,\n",
    "#             max_evals=10, \n",
    "#             trials=trial_val, \n",
    "#             rstate=np.random.default_rng(seed=9))\n",
    "# print('best_xgb:', best_xgb)"
   ]
  },
  {
   "cell_type": "markdown",
   "metadata": {},
   "source": [
    "- max_depth = 8\n",
    "- min_child_weight = 6\n",
    "- colsample_bytree = 0.6659976014576663\n",
    "- learning_rate = 0.1475201153968472"
   ]
  },
  {
   "cell_type": "markdown",
   "metadata": {},
   "source": [
    "## 모델 학습/예측/평가\n",
    "- LightGBM과 XGBoost만 진행\n",
    "- 데이터스케일링+이상치 제거한 데이터 vs SMOTE 오버샘플링한 데이터 비교"
   ]
  },
  {
   "cell_type": "code",
   "execution_count": 100,
   "metadata": {
    "execution": {
     "iopub.execute_input": "2025-05-13T11:12:53.423093Z",
     "iopub.status.busy": "2025-05-13T11:12:53.422531Z",
     "iopub.status.idle": "2025-05-13T11:13:13.118307Z",
     "shell.execute_reply": "2025-05-13T11:13:13.116935Z",
     "shell.execute_reply.started": "2025-05-13T11:12:53.422970Z"
    },
    "trusted": true
   },
   "outputs": [
    {
     "name": "stdout",
     "output_type": "stream",
     "text": [
      "### LightGBM 예측 성능 ###\n",
      "오차 행렬\n",
      "[[51150     7]\n",
      " [   15    92]]\n",
      "정확도: 0.9996, 정밀도:  0.9293, 재현율:  0.8598, f1스코어: 0.8932, roc-auc: 0.9790\n",
      "### XGBoost 예측 성능 ###\n",
      "오차 행렬\n",
      "[[51145    12]\n",
      " [   15    92]]\n",
      "정확도: 0.9995, 정밀도:  0.8846, 재현율:  0.8598, f1스코어: 0.8720, roc-auc: 0.9808\n"
     ]
    }
   ],
   "source": [
    "# 데이터스케일링 + 이상치 제거\n",
    "X_train, X_test, y_train, y_test = get_train_test_dataset(train)\n",
    "\n",
    "print('### LightGBM 예측 성능 ###')\n",
    "lgbm_clf = LGBMClassifier(n_estimators=1000, \n",
    "                          num_leaves=36,\n",
    "                          max_depth=159,\n",
    "                          min_child_samples=99,\n",
    "                          subsample=0.70775,\n",
    "                          learning_rate=0.01081,\n",
    "                          scale_pos_weight=476,\n",
    "                          eval_metric='auc',\n",
    "                          n_jobs=-1, boost_from_average=False, verbose=-1)\n",
    "get_model_train_eval(lgbm_clf, ftr_train=X_train, ftr_test=X_test, tgt_train=y_train, tgt_test=y_test)\n",
    "\n",
    "print('### XGBoost 예측 성능 ###')\n",
    "xgb_clf = XGBClassifier(n_estimators=100,\n",
    "                        learning_rate=0.14752,\n",
    "                        max_depth=8,\n",
    "                        min_child_weight=6,\n",
    "                        colsample_bytree=0.66600,\n",
    "                        eval_metric='auc',\n",
    "                       scale_pos_weight=476, use_label_encoder=False)\n",
    "get_model_train_eval(xgb_clf, ftr_train=X_train, ftr_test=X_test, tgt_train=y_train, tgt_test=y_test)"
   ]
  },
  {
   "cell_type": "code",
   "execution_count": 102,
   "metadata": {
    "execution": {
     "iopub.execute_input": "2025-05-13T11:15:37.003982Z",
     "iopub.status.busy": "2025-05-13T11:15:37.003597Z",
     "iopub.status.idle": "2025-05-13T11:16:10.754558Z",
     "shell.execute_reply": "2025-05-13T11:16:10.753402Z",
     "shell.execute_reply.started": "2025-05-13T11:15:37.003947Z"
    },
    "trusted": true
   },
   "outputs": [
    {
     "name": "stdout",
     "output_type": "stream",
     "text": [
      "### LightGBM 예측 성능 ###\n",
      "오차 행렬\n",
      "[[51139    18]\n",
      " [   15    92]]\n",
      "정확도: 0.9994, 정밀도:  0.8364, 재현율:  0.8598, f1스코어: 0.8479, roc-auc: 0.9765\n",
      "### XGBoost 예측 성능 ###\n",
      "오차 행렬\n",
      "[[51139    18]\n",
      " [   15    92]]\n",
      "정확도: 0.9994, 정밀도:  0.8364, 재현율:  0.8598, f1스코어: 0.8479, roc-auc: 0.9829\n"
     ]
    }
   ],
   "source": [
    "# SMOTE 오버 샘플링 데이터\n",
    "print('### LightGBM 예측 성능 ###')\n",
    "lgbm_clf = LGBMClassifier(n_estimators=1000, \n",
    "                          num_leaves=36,\n",
    "                          max_depth=159,\n",
    "                          min_child_samples=99,\n",
    "                          subsample=0.70775,\n",
    "                          learning_rate=0.01081,\n",
    "                          # scale_pos_weight=476,\n",
    "                          eval_metric='auc',\n",
    "                          n_jobs=-1, boost_from_average=False, verbose=-1)\n",
    "get_model_train_eval(lgbm_clf, ftr_train=X_train_over, ftr_test=X_test, tgt_train=y_train_over, tgt_test=y_test)\n",
    "\n",
    "print('### XGBoost 예측 성능 ###')\n",
    "xgb_clf = XGBClassifier(n_estimators=100,\n",
    "                        learning_rate=0.14752,\n",
    "                        max_depth=8,\n",
    "                        min_child_weight=6,\n",
    "                        colsample_bytree=0.66600,\n",
    "                        # scale_pos_weight=476,\n",
    "                        use_label_encoder=False)\n",
    "get_model_train_eval(xgb_clf, ftr_train=X_train_over, ftr_test=X_test, tgt_train=y_train_over, tgt_test=y_test)"
   ]
  },
  {
   "cell_type": "markdown",
   "metadata": {},
   "source": [
    "# 모델별 Score\n",
    "| 데이터 가공 유형 | ML 모델 | 정확도 | 정밀도 | 재현율 | ROC-AUC |\n",
    "|--------------|--------|------|-------|------|----------|\n",
    "|원본 데이터| 로지스틱회귀 | 0.9989 | 0.8000 | 0.6296 | 0.9576|\n",
    "|원본 데이터| LightGBM | 0.9996 | 0.9474 | 0.8333 | 0.9739 |\n",
    "|원본 데이터| XGBoost | 0.9994 | 0.8750 | 0.8426 | 0.9718 |\n",
    "|데이터 로그 변환| 로지스틱회귀 | 0.9989 | 0.8421 | 0.5926 | 0.9642 |\n",
    "|데이터 로그 변환| LightGBM | 0.9995 | 0.9375 | 0.8333 | 0.9722 |\n",
    "|데이터 로그 변환| XGBoost | 0.9994 | 0.8667 | 0.8426 | 0.9729 |\n",
    "|이상치 제거| 로지스틱회귀 | 0.9990 | 0.8553 | 0.6075 | 0.9376 |\n",
    "|이상치 제거| LightGBM | 0.9996 | 0.9570 | 0.8318 | 0.9769 |\n",
    "|이상치 제거| XGBoost | 0.9995 | 0.8932 | 0.8598 | 0.9778 |\n",
    "|SMOTE 샘플링| 로지스틱회귀 | 0.9882 | 0.1362 | 0.8692 | 0.9725 |\n",
    "|SMOTE 샘플링| LightGBM | 0.9995 | 0.8911 | 0.8411 | 0.9793 |\n",
    "|SMOTE 샘플링| XGBoost | 0.9989 | 0.6866 | 0.8598 | 0.9858 |\n",
    "| - | 앙상블 모델 | 0.9996 | 0.9474 | 0.8411 | 0.9697 |\n",
    "|이상치 제거| LightGBM(튜닝) | 0.9996 | 0.9293 | 0.8598 | 0.9790 |\n",
    "|이상치 제거| XGBoost(튜닝) | 0.9995 | 0.8846 | 0.8598 | 0.9808 |\n",
    "|SMOTE 샘플링| LightGBM(튜닝) | 0.9994 | 0.8364 | 0.8598 | 0.9765 |\n",
    "|SMOTE 샘플링| XGBoost(튜닝) | 0.9994 | 0.8364 | 0.8598 | 0.9829 |"
   ]
  },
  {
   "cell_type": "markdown",
   "metadata": {},
   "source": [
    "**평가지표**  \n",
    "데이터가 굉장히 불균형한 형태이다 보니 이전에 사용했던 accuracy로만은 정확한 성능 측정이 어려움.  \n",
    "accuracy뿐 아니라 다양한 평가 지표를 확인해야하는 것이 중요함.\n",
    "- accuracy: 다수의 데이터인 정상 거래(0)만 잘 맞춰도 점수가 높게 측정\n",
    "- precision: 이상 거래라고 예측한 것중에서 진짜 이상 거래인 비율 확인\n",
    "- recall: 실제 이상 거래 중에서 모델이 맞게 잡은 비율\n",
    "- F1 score: 정밀도와 재현율의 조화 평균\n",
    "- ROC-AUC: 불균형 문제에서도 구분 능력을 평가하며, 임계값에 독립적인 비교 지표이기 때문에 최종 성능 평가로 사용"
   ]
  },
  {
   "cell_type": "markdown",
   "metadata": {},
   "source": [
    "- SMOTE 오버 샘플링된 데이터로 하이퍼 파라미터를 찾은 것은 아니기 때문에, SMOTE 데이터의 성능도 약간 하락한 것으로 보임\n",
    "- 하이퍼 파라미터를 찾는데 시간이 오래 소요되므로, 우선 현재 가장 높은 점수를 기록한 SMOTE 오버 샘플링 데이터로 학습한 1차 XGBoost로 최종 모델? -> 모델 성능 매우 떨어짐. 0.03744\n",
    "- 하이퍼 파라미터 튜닝한 XGBoost로 최종 모델. 데이터 스케일링 + 이상치 데이터 학습"
   ]
  },
  {
   "cell_type": "markdown",
   "metadata": {},
   "source": [
    "# 최종 제출"
   ]
  },
  {
   "cell_type": "code",
   "execution_count": 313,
   "metadata": {
    "execution": {
     "iopub.execute_input": "2025-05-13T12:51:34.434823Z",
     "iopub.status.busy": "2025-05-13T12:51:34.434474Z",
     "iopub.status.idle": "2025-05-13T12:51:37.467392Z",
     "shell.execute_reply": "2025-05-13T12:51:37.466115Z",
     "shell.execute_reply.started": "2025-05-13T12:51:34.434798Z"
    },
    "trusted": true
   },
   "outputs": [],
   "source": [
    "# 과적합 발생으로 하나씩 전부 다시 정의\n",
    "train = pd.read_csv(\"/kaggle/input/modu-ds-4-credit-card-fraud-detection/train.csv\")\n",
    "test = pd.read_csv(\"/kaggle/input/modu-ds-4-credit-card-fraud-detection/test.csv\")\n",
    "\n",
    "# 170882 를 기점으로 그 뒤 시점으로 자름\n",
    "\n",
    "train[\"id\"].max(), test[\"id\"].min()\n",
    "\n",
    "def get_outlier(df=None, column=None, weight=1.5):\n",
    "    fraud = df[df[\"Class\"]==1][column]\n",
    "    quantile_25 = np.percentile(fraud.values, 25)\n",
    "    quantile_75 = np.percentile(fraud.values, 75)\n",
    "    \n",
    "    iqr = quantile_75 - quantile_25\n",
    "    iqr_weight = iqr * weight\n",
    "    lowest_val = quantile_25 - iqr_weight\n",
    "    highest_val = quantile_75 + iqr_weight\n",
    "    \n",
    "    outlier_index = fraud[(fraud < lowest_val) | (fraud > highest_val)].index\n",
    "    return outlier_index\n",
    "\n",
    "def get_preprocessed_df(df=None, train=True):\n",
    "    df_copy = df.copy()\n",
    "    amount_n = np.log1p(df_copy[\"Amount\"])\n",
    "    df_copy.insert(0, \"Amount_Scaled\", amount_n)\n",
    "    df_copy.drop([\"Time\", \"Amount\"], axis=1, inplace=True)\n",
    "    \n",
    "    outlier_index = get_outlier(df=df_copy, column=\"V14\", weight=1.5)\n",
    "    df_copy.drop(outlier_index, axis=0, inplace=True)\n",
    "    \n",
    "    return df_copy\n",
    "\n",
    "# 사전 데이터 가공 후 학습과 테스트 데이터 세트를 반환하는 함수\n",
    "\n",
    "def get_train_test_dataset(df=None):\n",
    "    df_copy = get_preprocessed_df(df)\n",
    "    \n",
    "    X_features = df_copy.iloc[:, :-1]\n",
    "    y_target = df_copy.iloc[:, -1]\n",
    "    \n",
    "    X_train, X_test, y_train, y_test = train_test_split(X_features, y_target,\n",
    "                                                        test_size=0.3, random_state=0, stratify=y_target)\n",
    "    \n",
    "    return X_train, X_test, y_train, y_test\n",
    "\n",
    "# 평가 함수\n",
    "\n",
    "def get_clf_eval(y_test, pred, pred_proba=None):\n",
    "    confusion = confusion_matrix(y_test, pred)\n",
    "    accuracy = accuracy_score(y_test, pred)\n",
    "    precision = precision_score(y_test, pred)\n",
    "    recall = recall_score(y_test, pred)\n",
    "    f1 = f1_score(y_test, pred)\n",
    "    \n",
    "    roc_auc = roc_auc_score(y_test, pred_proba)\n",
    "    \n",
    "    \n",
    "    print(\"오차 행렬\")\n",
    "    print(confusion)\n",
    "    print(f\"정확도: {accuracy:.4f}, 정밀도: {precision: .4f}, 재현율: {recall: .4f}, f1스코어: {f1:.4f}, roc-auc: {roc_auc:.4f}\")\n",
    "\n",
    "def get_model_train_eval(model, ftr_train=None, ftr_test=None, tgt_train=None, tgt_test=None):\n",
    "    model.fit(ftr_train, tgt_train)\n",
    "    pred = model.predict(ftr_test)\n",
    "    pred_proba = model.predict_proba(ftr_test)[:, 1]\n",
    "    get_clf_eval(tgt_test, pred, pred_proba)\n",
    "\n",
    "smote = SMOTE(random_state=0)\n",
    "\n",
    "X_train_over, y_train_over = smote.fit_resample(X_train, y_train)"
   ]
  },
  {
   "cell_type": "code",
   "execution_count": 314,
   "metadata": {
    "execution": {
     "iopub.execute_input": "2025-05-13T12:51:40.535664Z",
     "iopub.status.busy": "2025-05-13T12:51:40.535329Z",
     "iopub.status.idle": "2025-05-13T12:51:44.737868Z",
     "shell.execute_reply": "2025-05-13T12:51:44.736815Z",
     "shell.execute_reply.started": "2025-05-13T12:51:40.535640Z"
    },
    "trusted": true
   },
   "outputs": [
    {
     "name": "stdout",
     "output_type": "stream",
     "text": [
      "오차 행렬\n",
      "[[50992   165]\n",
      " [   15    92]]\n",
      "정확도: 0.9965, 정밀도:  0.3580, 재현율:  0.8598, f1스코어: 0.5055, roc-auc: 0.9848\n"
     ]
    }
   ],
   "source": [
    "# 파라미터 재조정\n",
    "X_train, X_test, y_train, y_test = get_train_test_dataset(train)\n",
    "\n",
    "xgb_clf = XGBClassifier(n_estimators=100, learning_rate=0.05) \n",
    "                        \n",
    "get_model_train_eval(xgb_clf, ftr_train=X_train_over, ftr_test=X_test, tgt_train=y_train_over, tgt_test=y_test)"
   ]
  },
  {
   "cell_type": "code",
   "execution_count": 315,
   "metadata": {
    "execution": {
     "iopub.execute_input": "2025-05-13T12:51:52.113249Z",
     "iopub.status.busy": "2025-05-13T12:51:52.112873Z",
     "iopub.status.idle": "2025-05-13T12:52:15.196552Z",
     "shell.execute_reply": "2025-05-13T12:52:15.195542Z",
     "shell.execute_reply.started": "2025-05-13T12:51:52.113195Z"
    },
    "trusted": true
   },
   "outputs": [
    {
     "name": "stdout",
     "output_type": "stream",
     "text": [
      "오차 행렬\n",
      "[[51146    11]\n",
      " [   17    90]]\n",
      "정확도: 0.9995, 정밀도:  0.8911, 재현율:  0.8411, f1스코어: 0.8654, roc-auc: 0.9793\n"
     ]
    }
   ],
   "source": [
    "# lgbm 함께 테스트\n",
    "lgbm_clf = LGBMClassifier(n_estimators=1000, num_leaves=64, n_jobs=-1, boost_from_average=False, verbose=-1)\n",
    "get_model_train_eval(lgbm_clf, ftr_train=X_train_over, ftr_test=X_test, tgt_train=y_train_over, tgt_test=y_test)"
   ]
  },
  {
   "cell_type": "code",
   "execution_count": 316,
   "metadata": {
    "execution": {
     "iopub.execute_input": "2025-05-13T12:52:18.036709Z",
     "iopub.status.busy": "2025-05-13T12:52:18.036339Z",
     "iopub.status.idle": "2025-05-13T12:52:18.065067Z",
     "shell.execute_reply": "2025-05-13T12:52:18.064102Z",
     "shell.execute_reply.started": "2025-05-13T12:52:18.036682Z"
    },
    "trusted": true
   },
   "outputs": [],
   "source": [
    "submission = pd.read_csv(\"/kaggle/input/modu-ds-4-credit-card-fraud-detection/sample_submission.csv\")"
   ]
  },
  {
   "cell_type": "code",
   "execution_count": 317,
   "metadata": {
    "execution": {
     "iopub.execute_input": "2025-05-13T12:52:19.996439Z",
     "iopub.status.busy": "2025-05-13T12:52:19.996033Z",
     "iopub.status.idle": "2025-05-13T12:52:20.003723Z",
     "shell.execute_reply": "2025-05-13T12:52:20.002361Z",
     "shell.execute_reply.started": "2025-05-13T12:52:19.996411Z"
    },
    "trusted": true
   },
   "outputs": [],
   "source": [
    "test[\"Amount_Scaled\"] = np.log1p(test[\"Amount\"])\n",
    "\n",
    "# # 맨 앞(0번째 위치)에 컬럼 이동 - 아래서 ValueError 발생\n",
    "# col = test.pop(\"Amount_Scaled\")         # 컬럼을 꺼내고\n",
    "# test.insert(0, \"Amount_Scaled\", col)    # 맨 앞에 삽입"
   ]
  },
  {
   "cell_type": "code",
   "execution_count": 318,
   "metadata": {
    "execution": {
     "iopub.execute_input": "2025-05-13T12:52:22.068414Z",
     "iopub.status.busy": "2025-05-13T12:52:22.068001Z",
     "iopub.status.idle": "2025-05-13T12:52:22.081348Z",
     "shell.execute_reply": "2025-05-13T12:52:22.080222Z",
     "shell.execute_reply.started": "2025-05-13T12:52:22.068388Z"
    },
    "trusted": true
   },
   "outputs": [],
   "source": [
    "test.drop([\"Time\", \"Amount\"], axis=1, inplace=True)"
   ]
  },
  {
   "cell_type": "code",
   "execution_count": 319,
   "metadata": {
    "execution": {
     "iopub.execute_input": "2025-05-13T12:52:26.075917Z",
     "iopub.status.busy": "2025-05-13T12:52:26.075606Z",
     "iopub.status.idle": "2025-05-13T12:52:26.083388Z",
     "shell.execute_reply": "2025-05-13T12:52:26.081444Z",
     "shell.execute_reply.started": "2025-05-13T12:52:26.075895Z"
    },
    "trusted": true
   },
   "outputs": [
    {
     "name": "stdout",
     "output_type": "stream",
     "text": [
      "Index(['Amount_Scaled', 'id', 'V1', 'V2', 'V3', 'V4', 'V5', 'V6', 'V7', 'V8',\n",
      "       'V9', 'V10', 'V11', 'V12', 'V13', 'V14', 'V15', 'V16', 'V17', 'V18',\n",
      "       'V19', 'V20', 'V21', 'V22', 'V23', 'V24', 'V25', 'V26', 'V27', 'V28'],\n",
      "      dtype='object')\n",
      "Index(['id', 'V1', 'V2', 'V3', 'V4', 'V5', 'V6', 'V7', 'V8', 'V9', 'V10',\n",
      "       'V11', 'V12', 'V13', 'V14', 'V15', 'V16', 'V17', 'V18', 'V19', 'V20',\n",
      "       'V21', 'V22', 'V23', 'V24', 'V25', 'V26', 'V27', 'V28',\n",
      "       'Amount_Scaled'],\n",
      "      dtype='object')\n"
     ]
    }
   ],
   "source": [
    "print(X_train.columns)\n",
    "print(test.columns)"
   ]
  },
  {
   "cell_type": "code",
   "execution_count": 320,
   "metadata": {
    "execution": {
     "iopub.execute_input": "2025-05-13T12:52:28.480805Z",
     "iopub.status.busy": "2025-05-13T12:52:28.480353Z",
     "iopub.status.idle": "2025-05-13T12:52:28.507317Z",
     "shell.execute_reply": "2025-05-13T12:52:28.505121Z",
     "shell.execute_reply.started": "2025-05-13T12:52:28.480749Z"
    },
    "trusted": true
   },
   "outputs": [
    {
     "name": "stdout",
     "output_type": "stream",
     "text": [
      "Index(['Amount_Scaled', 'id', 'V1', 'V2', 'V3', 'V4', 'V5', 'V6', 'V7', 'V8',\n",
      "       'V9', 'V10', 'V11', 'V12', 'V13', 'V14', 'V15', 'V16', 'V17', 'V18',\n",
      "       'V19', 'V20', 'V21', 'V22', 'V23', 'V24', 'V25', 'V26', 'V27', 'V28'],\n",
      "      dtype='object')\n",
      "Index(['Amount_Scaled', 'id', 'V1', 'V2', 'V3', 'V4', 'V5', 'V6', 'V7', 'V8',\n",
      "       'V9', 'V10', 'V11', 'V12', 'V13', 'V14', 'V15', 'V16', 'V17', 'V18',\n",
      "       'V19', 'V20', 'V21', 'V22', 'V23', 'V24', 'V25', 'V26', 'V27', 'V28'],\n",
      "      dtype='object')\n"
     ]
    }
   ],
   "source": [
    "# XGBoost는 컬럼 순서가 다르면 오류 발생해서 정렬\n",
    "test = test[X_train.columns]\n",
    "\n",
    "print(X_train.columns)\n",
    "print(test.columns)"
   ]
  },
  {
   "cell_type": "code",
   "execution_count": 321,
   "metadata": {
    "execution": {
     "iopub.execute_input": "2025-05-13T12:52:31.108360Z",
     "iopub.status.busy": "2025-05-13T12:52:31.107851Z",
     "iopub.status.idle": "2025-05-13T12:52:31.142875Z",
     "shell.execute_reply": "2025-05-13T12:52:31.141514Z",
     "shell.execute_reply.started": "2025-05-13T12:52:31.108307Z"
    },
    "trusted": true
   },
   "outputs": [
    {
     "data": {
      "text/html": [
       "<div>\n",
       "<style scoped>\n",
       "    .dataframe tbody tr th:only-of-type {\n",
       "        vertical-align: middle;\n",
       "    }\n",
       "\n",
       "    .dataframe tbody tr th {\n",
       "        vertical-align: top;\n",
       "    }\n",
       "\n",
       "    .dataframe thead th {\n",
       "        text-align: right;\n",
       "    }\n",
       "</style>\n",
       "<table border=\"1\" class=\"dataframe\">\n",
       "  <thead>\n",
       "    <tr style=\"text-align: right;\">\n",
       "      <th></th>\n",
       "      <th>Amount_Scaled</th>\n",
       "      <th>id</th>\n",
       "      <th>V1</th>\n",
       "      <th>V2</th>\n",
       "      <th>V3</th>\n",
       "      <th>V4</th>\n",
       "      <th>V5</th>\n",
       "      <th>V6</th>\n",
       "      <th>V7</th>\n",
       "      <th>V8</th>\n",
       "      <th>...</th>\n",
       "      <th>V19</th>\n",
       "      <th>V20</th>\n",
       "      <th>V21</th>\n",
       "      <th>V22</th>\n",
       "      <th>V23</th>\n",
       "      <th>V24</th>\n",
       "      <th>V25</th>\n",
       "      <th>V26</th>\n",
       "      <th>V27</th>\n",
       "      <th>V28</th>\n",
       "    </tr>\n",
       "  </thead>\n",
       "  <tbody>\n",
       "    <tr>\n",
       "      <th>168086</th>\n",
       "      <td>4.077537</td>\n",
       "      <td>168086</td>\n",
       "      <td>2.007390</td>\n",
       "      <td>-0.906754</td>\n",
       "      <td>-2.531306</td>\n",
       "      <td>-0.397208</td>\n",
       "      <td>1.956887</td>\n",
       "      <td>3.674065</td>\n",
       "      <td>-0.859827</td>\n",
       "      <td>0.801180</td>\n",
       "      <td>...</td>\n",
       "      <td>-1.416269</td>\n",
       "      <td>-0.498413</td>\n",
       "      <td>-0.017557</td>\n",
       "      <td>0.423003</td>\n",
       "      <td>0.001994</td>\n",
       "      <td>0.692191</td>\n",
       "      <td>0.316705</td>\n",
       "      <td>-0.297782</td>\n",
       "      <td>0.050395</td>\n",
       "      <td>-0.044658</td>\n",
       "    </tr>\n",
       "    <tr>\n",
       "      <th>120790</th>\n",
       "      <td>7.500944</td>\n",
       "      <td>120790</td>\n",
       "      <td>-3.626983</td>\n",
       "      <td>-5.592802</td>\n",
       "      <td>-0.914714</td>\n",
       "      <td>-0.410838</td>\n",
       "      <td>-5.208979</td>\n",
       "      <td>2.639078</td>\n",
       "      <td>5.691357</td>\n",
       "      <td>-0.503451</td>\n",
       "      <td>...</td>\n",
       "      <td>0.434038</td>\n",
       "      <td>3.923703</td>\n",
       "      <td>1.035055</td>\n",
       "      <td>0.183115</td>\n",
       "      <td>3.990605</td>\n",
       "      <td>-0.154880</td>\n",
       "      <td>1.191533</td>\n",
       "      <td>0.022764</td>\n",
       "      <td>-0.553519</td>\n",
       "      <td>0.191590</td>\n",
       "    </tr>\n",
       "    <tr>\n",
       "      <th>127688</th>\n",
       "      <td>3.696848</td>\n",
       "      <td>127688</td>\n",
       "      <td>1.198164</td>\n",
       "      <td>0.115922</td>\n",
       "      <td>0.328186</td>\n",
       "      <td>0.671532</td>\n",
       "      <td>-0.463145</td>\n",
       "      <td>-0.995986</td>\n",
       "      <td>0.137811</td>\n",
       "      <td>-0.255910</td>\n",
       "      <td>...</td>\n",
       "      <td>-0.264461</td>\n",
       "      <td>-0.010290</td>\n",
       "      <td>0.067928</td>\n",
       "      <td>0.178230</td>\n",
       "      <td>-0.112164</td>\n",
       "      <td>0.441026</td>\n",
       "      <td>0.519457</td>\n",
       "      <td>0.424236</td>\n",
       "      <td>-0.039989</td>\n",
       "      <td>0.017876</td>\n",
       "    </tr>\n",
       "    <tr>\n",
       "      <th>20736</th>\n",
       "      <td>2.564180</td>\n",
       "      <td>20736</td>\n",
       "      <td>-0.346630</td>\n",
       "      <td>0.688003</td>\n",
       "      <td>0.384736</td>\n",
       "      <td>-2.183807</td>\n",
       "      <td>-0.689107</td>\n",
       "      <td>-1.270980</td>\n",
       "      <td>0.216814</td>\n",
       "      <td>0.140046</td>\n",
       "      <td>...</td>\n",
       "      <td>1.247976</td>\n",
       "      <td>-0.091338</td>\n",
       "      <td>0.316672</td>\n",
       "      <td>1.036138</td>\n",
       "      <td>-0.083303</td>\n",
       "      <td>0.485265</td>\n",
       "      <td>-0.063335</td>\n",
       "      <td>-0.685361</td>\n",
       "      <td>-0.107718</td>\n",
       "      <td>-0.023558</td>\n",
       "    </tr>\n",
       "    <tr>\n",
       "      <th>132238</th>\n",
       "      <td>2.607124</td>\n",
       "      <td>132238</td>\n",
       "      <td>-0.624860</td>\n",
       "      <td>1.093090</td>\n",
       "      <td>1.723312</td>\n",
       "      <td>-0.183855</td>\n",
       "      <td>0.016031</td>\n",
       "      <td>-0.656731</td>\n",
       "      <td>0.852506</td>\n",
       "      <td>-0.174875</td>\n",
       "      <td>...</td>\n",
       "      <td>0.196659</td>\n",
       "      <td>0.332305</td>\n",
       "      <td>-0.240117</td>\n",
       "      <td>-0.400351</td>\n",
       "      <td>-0.038892</td>\n",
       "      <td>0.527122</td>\n",
       "      <td>-0.208220</td>\n",
       "      <td>0.015917</td>\n",
       "      <td>0.212547</td>\n",
       "      <td>-0.049140</td>\n",
       "    </tr>\n",
       "  </tbody>\n",
       "</table>\n",
       "<p>5 rows × 30 columns</p>\n",
       "</div>"
      ],
      "text/plain": [
       "        Amount_Scaled      id        V1        V2        V3        V4  \\\n",
       "168086       4.077537  168086  2.007390 -0.906754 -2.531306 -0.397208   \n",
       "120790       7.500944  120790 -3.626983 -5.592802 -0.914714 -0.410838   \n",
       "127688       3.696848  127688  1.198164  0.115922  0.328186  0.671532   \n",
       "20736        2.564180   20736 -0.346630  0.688003  0.384736 -2.183807   \n",
       "132238       2.607124  132238 -0.624860  1.093090  1.723312 -0.183855   \n",
       "\n",
       "              V5        V6        V7        V8  ...       V19       V20  \\\n",
       "168086  1.956887  3.674065 -0.859827  0.801180  ... -1.416269 -0.498413   \n",
       "120790 -5.208979  2.639078  5.691357 -0.503451  ...  0.434038  3.923703   \n",
       "127688 -0.463145 -0.995986  0.137811 -0.255910  ... -0.264461 -0.010290   \n",
       "20736  -0.689107 -1.270980  0.216814  0.140046  ...  1.247976 -0.091338   \n",
       "132238  0.016031 -0.656731  0.852506 -0.174875  ...  0.196659  0.332305   \n",
       "\n",
       "             V21       V22       V23       V24       V25       V26       V27  \\\n",
       "168086 -0.017557  0.423003  0.001994  0.692191  0.316705 -0.297782  0.050395   \n",
       "120790  1.035055  0.183115  3.990605 -0.154880  1.191533  0.022764 -0.553519   \n",
       "127688  0.067928  0.178230 -0.112164  0.441026  0.519457  0.424236 -0.039989   \n",
       "20736   0.316672  1.036138 -0.083303  0.485265 -0.063335 -0.685361 -0.107718   \n",
       "132238 -0.240117 -0.400351 -0.038892  0.527122 -0.208220  0.015917  0.212547   \n",
       "\n",
       "             V28  \n",
       "168086 -0.044658  \n",
       "120790  0.191590  \n",
       "127688  0.017876  \n",
       "20736  -0.023558  \n",
       "132238 -0.049140  \n",
       "\n",
       "[5 rows x 30 columns]"
      ]
     },
     "execution_count": 321,
     "metadata": {},
     "output_type": "execute_result"
    }
   ],
   "source": [
    "# 각 데이터 컬럼 확인\n",
    "X_train.head()"
   ]
  },
  {
   "cell_type": "code",
   "execution_count": 322,
   "metadata": {
    "execution": {
     "iopub.execute_input": "2025-05-13T12:52:32.817117Z",
     "iopub.status.busy": "2025-05-13T12:52:32.816748Z",
     "iopub.status.idle": "2025-05-13T12:52:32.840648Z",
     "shell.execute_reply": "2025-05-13T12:52:32.839717Z",
     "shell.execute_reply.started": "2025-05-13T12:52:32.817086Z"
    },
    "trusted": true
   },
   "outputs": [
    {
     "data": {
      "text/html": [
       "<div>\n",
       "<style scoped>\n",
       "    .dataframe tbody tr th:only-of-type {\n",
       "        vertical-align: middle;\n",
       "    }\n",
       "\n",
       "    .dataframe tbody tr th {\n",
       "        vertical-align: top;\n",
       "    }\n",
       "\n",
       "    .dataframe thead th {\n",
       "        text-align: right;\n",
       "    }\n",
       "</style>\n",
       "<table border=\"1\" class=\"dataframe\">\n",
       "  <thead>\n",
       "    <tr style=\"text-align: right;\">\n",
       "      <th></th>\n",
       "      <th>Amount_Scaled</th>\n",
       "      <th>id</th>\n",
       "      <th>V1</th>\n",
       "      <th>V2</th>\n",
       "      <th>V3</th>\n",
       "      <th>V4</th>\n",
       "      <th>V5</th>\n",
       "      <th>V6</th>\n",
       "      <th>V7</th>\n",
       "      <th>V8</th>\n",
       "      <th>...</th>\n",
       "      <th>V19</th>\n",
       "      <th>V20</th>\n",
       "      <th>V21</th>\n",
       "      <th>V22</th>\n",
       "      <th>V23</th>\n",
       "      <th>V24</th>\n",
       "      <th>V25</th>\n",
       "      <th>V26</th>\n",
       "      <th>V27</th>\n",
       "      <th>V28</th>\n",
       "    </tr>\n",
       "  </thead>\n",
       "  <tbody>\n",
       "    <tr>\n",
       "      <th>0</th>\n",
       "      <td>4.836123</td>\n",
       "      <td>170883</td>\n",
       "      <td>-2.410892</td>\n",
       "      <td>-1.264333</td>\n",
       "      <td>-0.787460</td>\n",
       "      <td>-0.212152</td>\n",
       "      <td>1.139859</td>\n",
       "      <td>-2.030200</td>\n",
       "      <td>0.533818</td>\n",
       "      <td>-0.194852</td>\n",
       "      <td>...</td>\n",
       "      <td>0.422115</td>\n",
       "      <td>-0.558831</td>\n",
       "      <td>-0.076699</td>\n",
       "      <td>0.054816</td>\n",
       "      <td>-1.243901</td>\n",
       "      <td>0.147148</td>\n",
       "      <td>0.974330</td>\n",
       "      <td>1.309377</td>\n",
       "      <td>0.083660</td>\n",
       "      <td>-0.611166</td>\n",
       "    </tr>\n",
       "    <tr>\n",
       "      <th>1</th>\n",
       "      <td>3.931826</td>\n",
       "      <td>170884</td>\n",
       "      <td>-1.394526</td>\n",
       "      <td>0.284790</td>\n",
       "      <td>2.979226</td>\n",
       "      <td>0.362345</td>\n",
       "      <td>-1.344546</td>\n",
       "      <td>2.278858</td>\n",
       "      <td>-1.836101</td>\n",
       "      <td>-1.797895</td>\n",
       "      <td>...</td>\n",
       "      <td>0.527285</td>\n",
       "      <td>-0.807798</td>\n",
       "      <td>1.945416</td>\n",
       "      <td>-0.539926</td>\n",
       "      <td>-0.446763</td>\n",
       "      <td>-0.521142</td>\n",
       "      <td>0.405680</td>\n",
       "      <td>-0.149237</td>\n",
       "      <td>0.458944</td>\n",
       "      <td>-0.071516</td>\n",
       "    </tr>\n",
       "    <tr>\n",
       "      <th>2</th>\n",
       "      <td>2.271094</td>\n",
       "      <td>170885</td>\n",
       "      <td>0.140378</td>\n",
       "      <td>0.989574</td>\n",
       "      <td>-0.506447</td>\n",
       "      <td>0.480553</td>\n",
       "      <td>1.407763</td>\n",
       "      <td>0.371637</td>\n",
       "      <td>0.811775</td>\n",
       "      <td>0.067702</td>\n",
       "      <td>...</td>\n",
       "      <td>0.843741</td>\n",
       "      <td>0.120841</td>\n",
       "      <td>0.385872</td>\n",
       "      <td>1.302941</td>\n",
       "      <td>-0.177157</td>\n",
       "      <td>-0.192410</td>\n",
       "      <td>-0.724567</td>\n",
       "      <td>-0.433276</td>\n",
       "      <td>0.540947</td>\n",
       "      <td>0.323866</td>\n",
       "    </tr>\n",
       "    <tr>\n",
       "      <th>3</th>\n",
       "      <td>4.110710</td>\n",
       "      <td>170886</td>\n",
       "      <td>-1.303150</td>\n",
       "      <td>0.187865</td>\n",
       "      <td>0.944395</td>\n",
       "      <td>-1.277834</td>\n",
       "      <td>1.236744</td>\n",
       "      <td>-1.301696</td>\n",
       "      <td>1.402234</td>\n",
       "      <td>-0.558914</td>\n",
       "      <td>...</td>\n",
       "      <td>-1.133255</td>\n",
       "      <td>-0.251346</td>\n",
       "      <td>-0.274175</td>\n",
       "      <td>-0.656826</td>\n",
       "      <td>-0.164985</td>\n",
       "      <td>0.001284</td>\n",
       "      <td>-0.001842</td>\n",
       "      <td>-0.024050</td>\n",
       "      <td>-0.436872</td>\n",
       "      <td>0.051705</td>\n",
       "    </tr>\n",
       "    <tr>\n",
       "      <th>4</th>\n",
       "      <td>4.795543</td>\n",
       "      <td>170887</td>\n",
       "      <td>1.947883</td>\n",
       "      <td>-1.095332</td>\n",
       "      <td>-1.392121</td>\n",
       "      <td>-0.600598</td>\n",
       "      <td>-0.320840</td>\n",
       "      <td>0.048953</td>\n",
       "      <td>-0.443486</td>\n",
       "      <td>-0.081011</td>\n",
       "      <td>...</td>\n",
       "      <td>-0.343759</td>\n",
       "      <td>-0.293448</td>\n",
       "      <td>-0.250594</td>\n",
       "      <td>-0.385151</td>\n",
       "      <td>0.099030</td>\n",
       "      <td>0.221922</td>\n",
       "      <td>-0.212846</td>\n",
       "      <td>0.586637</td>\n",
       "      <td>-0.071616</td>\n",
       "      <td>-0.045475</td>\n",
       "    </tr>\n",
       "  </tbody>\n",
       "</table>\n",
       "<p>5 rows × 30 columns</p>\n",
       "</div>"
      ],
      "text/plain": [
       "   Amount_Scaled      id        V1        V2        V3        V4        V5  \\\n",
       "0       4.836123  170883 -2.410892 -1.264333 -0.787460 -0.212152  1.139859   \n",
       "1       3.931826  170884 -1.394526  0.284790  2.979226  0.362345 -1.344546   \n",
       "2       2.271094  170885  0.140378  0.989574 -0.506447  0.480553  1.407763   \n",
       "3       4.110710  170886 -1.303150  0.187865  0.944395 -1.277834  1.236744   \n",
       "4       4.795543  170887  1.947883 -1.095332 -1.392121 -0.600598 -0.320840   \n",
       "\n",
       "         V6        V7        V8  ...       V19       V20       V21       V22  \\\n",
       "0 -2.030200  0.533818 -0.194852  ...  0.422115 -0.558831 -0.076699  0.054816   \n",
       "1  2.278858 -1.836101 -1.797895  ...  0.527285 -0.807798  1.945416 -0.539926   \n",
       "2  0.371637  0.811775  0.067702  ...  0.843741  0.120841  0.385872  1.302941   \n",
       "3 -1.301696  1.402234 -0.558914  ... -1.133255 -0.251346 -0.274175 -0.656826   \n",
       "4  0.048953 -0.443486 -0.081011  ... -0.343759 -0.293448 -0.250594 -0.385151   \n",
       "\n",
       "        V23       V24       V25       V26       V27       V28  \n",
       "0 -1.243901  0.147148  0.974330  1.309377  0.083660 -0.611166  \n",
       "1 -0.446763 -0.521142  0.405680 -0.149237  0.458944 -0.071516  \n",
       "2 -0.177157 -0.192410 -0.724567 -0.433276  0.540947  0.323866  \n",
       "3 -0.164985  0.001284 -0.001842 -0.024050 -0.436872  0.051705  \n",
       "4  0.099030  0.221922 -0.212846  0.586637 -0.071616 -0.045475  \n",
       "\n",
       "[5 rows x 30 columns]"
      ]
     },
     "execution_count": 322,
     "metadata": {},
     "output_type": "execute_result"
    }
   ],
   "source": [
    "test.head()"
   ]
  },
  {
   "cell_type": "code",
   "execution_count": 323,
   "metadata": {
    "execution": {
     "iopub.execute_input": "2025-05-13T12:52:34.624664Z",
     "iopub.status.busy": "2025-05-13T12:52:34.624344Z",
     "iopub.status.idle": "2025-05-13T12:52:34.785755Z",
     "shell.execute_reply": "2025-05-13T12:52:34.785061Z",
     "shell.execute_reply.started": "2025-05-13T12:52:34.624642Z"
    },
    "trusted": true
   },
   "outputs": [],
   "source": [
    "# del test[\"Class\"]\n",
    "xgb_pred = xgb_clf.predict(test)\n",
    "# lgbm_pred = lgbm_clf.predict(test)"
   ]
  },
  {
   "cell_type": "code",
   "execution_count": 324,
   "metadata": {
    "execution": {
     "iopub.execute_input": "2025-05-13T12:52:36.588693Z",
     "iopub.status.busy": "2025-05-13T12:52:36.588371Z",
     "iopub.status.idle": "2025-05-13T12:52:36.742170Z",
     "shell.execute_reply": "2025-05-13T12:52:36.741278Z",
     "shell.execute_reply.started": "2025-05-13T12:52:36.588671Z"
    },
    "trusted": true
   },
   "outputs": [],
   "source": [
    "xgb_pred_proba = xgb_clf.predict_proba(test)[:, 1]\n",
    "# lgbm_pred_proba = lgbm_clf.predict_proba(test)"
   ]
  },
  {
   "cell_type": "code",
   "execution_count": 325,
   "metadata": {
    "execution": {
     "iopub.execute_input": "2025-05-13T12:52:38.448790Z",
     "iopub.status.busy": "2025-05-13T12:52:38.447823Z",
     "iopub.status.idle": "2025-05-13T12:52:38.453667Z",
     "shell.execute_reply": "2025-05-13T12:52:38.452785Z",
     "shell.execute_reply.started": "2025-05-13T12:52:38.448757Z"
    },
    "trusted": true
   },
   "outputs": [],
   "source": [
    "test[\"Class\"] = xgb_pred\n",
    "# test[\"Class\"] = lgbm_pred"
   ]
  },
  {
   "cell_type": "code",
   "execution_count": 326,
   "metadata": {
    "execution": {
     "iopub.execute_input": "2025-05-13T12:52:42.166482Z",
     "iopub.status.busy": "2025-05-13T12:52:42.165999Z",
     "iopub.status.idle": "2025-05-13T12:52:42.176427Z",
     "shell.execute_reply": "2025-05-13T12:52:42.174911Z",
     "shell.execute_reply.started": "2025-05-13T12:52:42.166449Z"
    },
    "trusted": true
   },
   "outputs": [
    {
     "data": {
      "text/plain": [
       "Class\n",
       "0    113682\n",
       "1       241\n",
       "Name: count, dtype: int64"
      ]
     },
     "execution_count": 326,
     "metadata": {},
     "output_type": "execute_result"
    }
   ],
   "source": [
    "test.Class.value_counts()"
   ]
  },
  {
   "cell_type": "code",
   "execution_count": 327,
   "metadata": {
    "execution": {
     "iopub.execute_input": "2025-05-13T12:52:45.079000Z",
     "iopub.status.busy": "2025-05-13T12:52:45.078659Z",
     "iopub.status.idle": "2025-05-13T12:52:45.091993Z",
     "shell.execute_reply": "2025-05-13T12:52:45.090160Z",
     "shell.execute_reply.started": "2025-05-13T12:52:45.078975Z"
    },
    "trusted": true
   },
   "outputs": [
    {
     "data": {
      "text/plain": [
       "Class\n",
       "0    0.997885\n",
       "1    0.002115\n",
       "Name: count, dtype: float64"
      ]
     },
     "execution_count": 327,
     "metadata": {},
     "output_type": "execute_result"
    }
   ],
   "source": [
    "test.Class.value_counts() / len(test)"
   ]
  },
  {
   "cell_type": "code",
   "execution_count": 328,
   "metadata": {
    "execution": {
     "iopub.execute_input": "2025-05-13T12:52:48.002018Z",
     "iopub.status.busy": "2025-05-13T12:52:48.001557Z",
     "iopub.status.idle": "2025-05-13T12:52:48.009019Z",
     "shell.execute_reply": "2025-05-13T12:52:48.007523Z",
     "shell.execute_reply.started": "2025-05-13T12:52:48.001985Z"
    },
    "trusted": true
   },
   "outputs": [],
   "source": [
    "del submission[\"Class\"]"
   ]
  },
  {
   "cell_type": "code",
   "execution_count": 330,
   "metadata": {
    "execution": {
     "iopub.execute_input": "2025-05-13T12:52:52.383540Z",
     "iopub.status.busy": "2025-05-13T12:52:52.383113Z",
     "iopub.status.idle": "2025-05-13T12:52:52.390829Z",
     "shell.execute_reply": "2025-05-13T12:52:52.389451Z",
     "shell.execute_reply.started": "2025-05-13T12:52:52.383510Z"
    },
    "trusted": true
   },
   "outputs": [],
   "source": [
    "test[\"Class\"] = xgb_pred_proba\n",
    "# test[\"Class\"] = lgbm_pred_proba"
   ]
  },
  {
   "cell_type": "code",
   "execution_count": 331,
   "metadata": {
    "execution": {
     "iopub.execute_input": "2025-05-13T12:52:53.915550Z",
     "iopub.status.busy": "2025-05-13T12:52:53.915193Z",
     "iopub.status.idle": "2025-05-13T12:52:53.928443Z",
     "shell.execute_reply": "2025-05-13T12:52:53.927328Z",
     "shell.execute_reply.started": "2025-05-13T12:52:53.915525Z"
    },
    "trusted": true
   },
   "outputs": [],
   "source": [
    "submission = submission.merge(test[[\"id\", \"Class\"]], on=\"id\")"
   ]
  },
  {
   "cell_type": "code",
   "execution_count": 332,
   "metadata": {
    "execution": {
     "iopub.execute_input": "2025-05-13T12:52:55.592762Z",
     "iopub.status.busy": "2025-05-13T12:52:55.592442Z",
     "iopub.status.idle": "2025-05-13T12:52:55.828180Z",
     "shell.execute_reply": "2025-05-13T12:52:55.826651Z",
     "shell.execute_reply.started": "2025-05-13T12:52:55.592739Z"
    },
    "trusted": true
   },
   "outputs": [],
   "source": [
    "submission.to_csv(\"./submission.csv\", index=False)"
   ]
  }
 ],
 "metadata": {
  "kaggle": {
   "accelerator": "none",
   "dataSources": [
    {
     "databundleVersionId": 12222871,
     "sourceId": 101520,
     "sourceType": "competition"
    }
   ],
   "dockerImageVersionId": 31012,
   "isGpuEnabled": false,
   "isInternetEnabled": true,
   "language": "python",
   "sourceType": "notebook"
  },
  "kernelspec": {
   "display_name": "Python 3",
   "language": "python",
   "name": "python3"
  },
  "language_info": {
   "codemirror_mode": {
    "name": "ipython",
    "version": 3
   },
   "file_extension": ".py",
   "mimetype": "text/x-python",
   "name": "python",
   "nbconvert_exporter": "python",
   "pygments_lexer": "ipython3",
   "version": "3.11.11"
  }
 },
 "nbformat": 4,
 "nbformat_minor": 4
}
